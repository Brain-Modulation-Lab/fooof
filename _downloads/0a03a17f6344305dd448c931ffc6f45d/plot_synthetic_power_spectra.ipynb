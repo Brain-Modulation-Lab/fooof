{
  "cells": [
    {
      "cell_type": "code",
      "execution_count": null,
      "metadata": {
        "collapsed": false
      },
      "outputs": [],
      "source": [
        "%matplotlib inline"
      ]
    },
    {
      "cell_type": "markdown",
      "metadata": {},
      "source": [
        "\nCreating Synthetic Power Spectra\n================================\n\nUse FOOOF to create synthetic power spectra.\n\n"
      ]
    },
    {
      "cell_type": "code",
      "execution_count": null,
      "metadata": {
        "collapsed": false
      },
      "outputs": [],
      "source": [
        "# Import fooof functions for creating synthetic power spectra\nfrom fooof.synth.gen import gen_power_spectrum, gen_group_power_spectra\n\n# Import some fooof plotting functions\nfrom fooof.plts.spectra import plot_spectrum, plot_spectra"
      ]
    },
    {
      "cell_type": "markdown",
      "metadata": {},
      "source": [
        "Creating Synthetic Power Spectra\n--------------------------------\n\nFOOOF has utilities to create synthetic power spectra, whereby spectra\nare simulated with an aperiodic component with overlying peaks,\nusing specified parameters.\n\nThe :func:`gen_power_spectrum` function can be used to synthesize a power\nspectrum with specified parameters.\n\nNote that all FOOOF functions that synthesize power spectra take in\ngaussian parameters, not the modified peak parameters.\n\n\n"
      ]
    },
    {
      "cell_type": "code",
      "execution_count": null,
      "metadata": {
        "collapsed": false
      },
      "outputs": [],
      "source": [
        "# Settings for creating a synthetic power spectrum\nfreq_range = [3, 40]            # The frequency range to simulate\naperiodic_params = [1, 1]       # Parameters defining the aperiodic component\ngaussian_params = [10, 0.3, 1]  # Parameters for any periodic components"
      ]
    },
    {
      "cell_type": "code",
      "execution_count": null,
      "metadata": {
        "collapsed": false
      },
      "outputs": [],
      "source": [
        "# Generate a synthetic power spectrum\nfs, ps = gen_power_spectrum(freq_range, aperiodic_params, gaussian_params)"
      ]
    },
    {
      "cell_type": "code",
      "execution_count": null,
      "metadata": {
        "collapsed": false
      },
      "outputs": [],
      "source": [
        "# Plot the synthetic power spectrum\nplot_spectrum(fs, ps, log_freqs=True, log_powers=False)"
      ]
    },
    {
      "cell_type": "markdown",
      "metadata": {},
      "source": [
        "Simulating With Different Parameters\n------------------------------------\n\nPower spectra can be synthesized with any desired parameters for the FOOOF power spectra model.\n\nThe aperiodic mode for the simulated power spectrum is inferred from the parameters provided.\nIf two parameters are provided, this is interpreted as [offset, exponent] for simulating\na power spectra with a 'fixed' aperiodic component. If three parameters are provided, as in\nthe example below, this is interpreted as [offset, knee, exponent] for a 'knee' spectrum.\n\nPower spectra can also be simulated with any number of peaks. Peaks can be listed in a flat\nlist with [center frequency, amplitude, bandwidth] listed for as many peaks as you would\nlike to add, or as a list of lists containing the same information.\n\nThe following example shows simulating a different power spectrum with some different\nparameter settings, also changing the noise level added to the spectrum, and the frequency\nresolution of the simulated spectrum.\n\n\n"
      ]
    },
    {
      "cell_type": "code",
      "execution_count": null,
      "metadata": {
        "collapsed": false
      },
      "outputs": [],
      "source": [
        "# Set up new settings for creating a different synthetic power spectrum\nfreq_range = [1, 60]\naperiodic_params = [1, 500, 2]            # Specify three values as [offset, knee, exponent]\ngaussian_params = [9, 0.4, 1, 24, 0.2, 3]  # Add peaks - can also be [[9, 0.4, 1], [24, 0.2, 3]]\nnlv = 0.01                                 # The amount of noise to add to the spectrum\nfreq_res = 0.25                            # Specific the frequency resolution to simulate\n\n# Generate the new synthetic power spectrum\nfs, ps = gen_power_spectrum(freq_range, aperiodic_params, gaussian_params, nlv, freq_res)"
      ]
    },
    {
      "cell_type": "code",
      "execution_count": null,
      "metadata": {
        "collapsed": false
      },
      "outputs": [],
      "source": [
        "# Plot the new synthetic power spectrum\nplot_spectrum(fs, ps, log_powers=True)"
      ]
    },
    {
      "cell_type": "markdown",
      "metadata": {},
      "source": [
        "Simulating a Group of Power Spectra\n-----------------------------------\n\nFor simulating multiple power spectra, the :func:`gen_group_power_spectrum` can be used.\n\nThis function takes the same kind of parameter definitions as :func:`gen_power_spectrum`,\nand in addition takes a number specifying how many power spectra to simulate, returning\na 2D matrix containing the desired number of spectra.\n\nFor each parameter that is specified, it can be a single definition, in which case\nthis value is used to generate each spectrum, a list of parameters, in which case\neach successive entry is used to generate each successive power spectrum, or\na function or generator that can be called to return parameters for each spectrum.\n\n\n"
      ]
    },
    {
      "cell_type": "code",
      "execution_count": null,
      "metadata": {
        "collapsed": false
      },
      "outputs": [],
      "source": [
        "# Create some new settings for synthesizing a group of power spectra\nn_spectra = 2\nfreq_range = [3, 40]\nap_params = [[0.5, 1], [1, 1.5]]\ngauss_params = [10, 0.4, 1]\nnlv = 0.02"
      ]
    },
    {
      "cell_type": "code",
      "execution_count": null,
      "metadata": {
        "collapsed": false
      },
      "outputs": [],
      "source": [
        "# Synthesize a group of power spectra\nfs, ps, syn_params = gen_group_power_spectra(n_spectra, freq_range, ap_params, gauss_params, nlv)"
      ]
    },
    {
      "cell_type": "code",
      "execution_count": null,
      "metadata": {
        "collapsed": false
      },
      "outputs": [],
      "source": [
        "# Plot the power spectra that were just generated\nplot_spectra(fs, ps, log_freqs=True, log_powers=True)"
      ]
    },
    {
      "cell_type": "markdown",
      "metadata": {},
      "source": [
        "Note that when you simulate a group of power spectra, FOOOF returns SynParam objects that\nkeep track of the simulations. This, and other utilties to manage parameters and provide\nparameter definitions for synthesizing groups of power spectra are covered in the\n`Synthetic Parameters` example.\n\n\n"
      ]
    }
  ],
  "metadata": {
    "kernelspec": {
      "display_name": "Python 3",
      "language": "python",
      "name": "python3"
    },
    "language_info": {
      "codemirror_mode": {
        "name": "ipython",
        "version": 3
      },
      "file_extension": ".py",
      "mimetype": "text/x-python",
      "name": "python",
      "nbconvert_exporter": "python",
      "pygments_lexer": "ipython3",
      "version": "3.7.1"
    }
  },
  "nbformat": 4,
  "nbformat_minor": 0
}