{
  "cells": [
    {
      "cell_type": "code",
      "execution_count": null,
      "metadata": {
        "collapsed": false
      },
      "outputs": [],
      "source": [
        "%matplotlib inline"
      ]
    },
    {
      "cell_type": "markdown",
      "metadata": {},
      "source": [
        "\n01: Model Description\n=====================\n\nA theoretical / mathematical description of the FOOOF model.\n\n"
      ]
    },
    {
      "cell_type": "markdown",
      "metadata": {},
      "source": [
        "Introduction\n------------\n\nA neural power spectrum is fit as a combination of an aperiodic signal and periodic oscillations.\n\nThe aperiodic component of the signal displays 1/f like properties.\n\nPutative oscillations (hereafter referred to as 'peaks'), are frequency regions\nin which there are 'bumps' of power over and above the aperiodic signal.\n\nThis formulation roughly translates to fitting the power spectrum as:\n\n\\begin{align}P = L + \\sum_{n=0}^{N} G_n\\end{align}\n\nWhere `P` is the power spectrum, `L` is the aperiodic signal, and each $G_n$\nis a Gaussian fit to a peak, for `N` total peaks extracted from the power spectrum.\n\n\n"
      ]
    },
    {
      "cell_type": "markdown",
      "metadata": {},
      "source": [
        "Aperiodic Fit\n-------------\n\nThe aperiodic fit uses an exponential function, fit on the semilog power spectrum\n(linear frequencies and $log_{10}$ power values).\n\nThe exponential is of the form:\n\n\\begin{align}L = 10^b * \\frac{1}{(k + F^\\chi)}\\end{align}\n\nOr, equivalently:\n\n\\begin{align}L = b - \\log(k + F^\\chi)\\end{align}\n\nIn this formulation, the parameters `b`, `k`, and $\\chi$\ndefine the aperiodic signal, as:\n\n- `b` is the broadband 'offset'\n- `k` relates to the 'knee'\n- $\\chi$ is the 'exponent' of the aperiodic fit\n- `F` is the vector of input frequencies\n\nNote that fitting the knee parameter is optional. If used, the knee defines a bend in the\naperiodic `1/f` like component of the signal.\n\nBy default the aperiodic signal is fit with the 'knee' parameter set to zero.\nThis fits the aperiodic signal equivalently to fitting a linear fit in log-log space.\n\nBroader frequency ranges typically do not display a single 1/f like characteristic,\nand so for these cases fitting with the knee parameter allows for modelling bends\nin the aperiodic signal.\n\n\n"
      ]
    },
    {
      "cell_type": "markdown",
      "metadata": {},
      "source": [
        "Peaks\n-----\n\nRegions of power over above this aperiodic signal, as defined above, are considered\nto be putative oscillations and are fit in the model by a Gaussian.\n\nFor each Gaussian, $G_n$, with the form:\n\n\\begin{align}G_n = a * exp (\\frac{- (F - c)^2}{2 * w^2})\\end{align}\n\nEach peak is defined in terms of parameters `a`, `c` and `w`, where:\n\n- `a` is the amplitude of the peak, over and above the aperiodic signal\n- `c` is the center frequency of the peak\n- `w` is the width of the peak\n- `F` is the vector of input frequencies\n\nThe full power spectrum fit is therefore the combination of the aperiodic fit,\n`L` defined by the exponential fit, and `N` peaks, where each $G_n$ is\nformalized as a Gaussian process.\n\nFull method details are available in the paper:\nhttps://www.biorxiv.org/content/early/2018/04/11/299859\n\n\n"
      ]
    },
    {
      "cell_type": "markdown",
      "metadata": {},
      "source": [
        "This procedure is able to create a model of the neural power spectrum,\nthat is fully described mathematical by the mathematical model from above.\n\n\n"
      ]
    }
  ],
  "metadata": {
    "kernelspec": {
      "display_name": "Python 3",
      "language": "python",
      "name": "python3"
    },
    "language_info": {
      "codemirror_mode": {
        "name": "ipython",
        "version": 3
      },
      "file_extension": ".py",
      "mimetype": "text/x-python",
      "name": "python",
      "nbconvert_exporter": "python",
      "pygments_lexer": "ipython3",
      "version": "3.7.1"
    }
  },
  "nbformat": 4,
  "nbformat_minor": 0
}