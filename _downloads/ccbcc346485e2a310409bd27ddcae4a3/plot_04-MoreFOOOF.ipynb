{
  "cells": [
    {
      "cell_type": "code",
      "execution_count": null,
      "metadata": {
        "collapsed": false
      },
      "outputs": [],
      "source": [
        "%matplotlib inline"
      ]
    },
    {
      "cell_type": "markdown",
      "metadata": {},
      "source": [
        "\n04: Exploring the FOOOF Object\n==============================\n\nMore exploration and use of the FOOOF object.\n\n"
      ]
    },
    {
      "cell_type": "code",
      "execution_count": null,
      "metadata": {
        "collapsed": false
      },
      "outputs": [],
      "source": [
        "# Import numpy for loading data, and FOOOF object\nimport numpy as np\nfrom fooof import FOOOF"
      ]
    },
    {
      "cell_type": "code",
      "execution_count": null,
      "metadata": {
        "collapsed": false
      },
      "outputs": [],
      "source": [
        "# Create a FOOOF object to explore\nfm = FOOOF()"
      ]
    },
    {
      "cell_type": "markdown",
      "metadata": {},
      "source": [
        "Description of FOOOF methods and parameters\n-------------------------------------------\n\nFOOOF follows the following Python conventions:\n\n- all user exposed settings, data, and methods are directly accessible through the object\n- 'hidden' (internal) settings and methods have a leading underscore, indicating they are private\n\nThe FOOOF object contents consist of 4 main components (groups of data / code), settings,\ndata attributes, result attributes, and methods, each of which are described in more\ndetail below.\n\n\n"
      ]
    },
    {
      "cell_type": "markdown",
      "metadata": {},
      "source": [
        "Settings (attributes)\n^^^^^^^^^^^^^^^^^^^^^\n\nThere are a number of parameters that control the FOOOF fitting algorithm, that\ncan be set by the user when initializing the FOOOF model.\n\nThere are some internal settings that are not exposed at initialization.\nThese settings are unlikely to need to be accessed by the user, but can be if desired -\nthey are all defined and documented in \\__init\\__ (there should be no other settings, or\n'magic numbers' in any other parts of the code).\n\n\n"
      ]
    },
    {
      "cell_type": "markdown",
      "metadata": {},
      "source": [
        "Controlling Peak Fits\n~~~~~~~~~~~~~~~~~~~~~\n\n**peak_width_limits (Hz)** default: [0.5, 12]\n\nEnforced limits on the minimum and maximum widths of extracted peaks, given as a list of\n[minimum bandwidth, maximum bandwidth]. We recommend bandwidths be set to be at last twice\nthe frequency resolution of the power spectrum.\n\nPeak Search Stopping Criteria\n~~~~~~~~~~~~~~~~~~~~~~~~~~~~~\n\nAn iterative procedures searches for candidate peaks in the flattened spectrum. Candidate\npeaks are extracted in order of decreasing amplitude, until some stopping criterion is met,\nwhich is controlled by the following parameters:\n\n**max_n_peaks (int)** default: infinite\n\nThe maximum number of peaks that can be extracted from a given power spectrum. FOOOF will\nhalt searching for new peaks when this number is reached. Note that FOOOF extracts peaks\niteratively by amplitude (over and above the aperiodic signal), and so this approach will\nextract (up to) the *n* largest peaks.\n\n**peak_threshold (in units of standard deviation)** default: 2.0\n\nThe threshold, in terms of standard deviation of the aperiodic signal-removed power\nspectrum, above which a data point must pass to be considered a candidate peak.\nOnce a candidate peak drops below this threshold, the peak search is halted (without\nincluding the most recent candidate).\n\n**min_peak_amplitude (units of power - same as the input spectrum)** default: 0\n\nThe minimum amplitude, above the aperiodic fit, that a peak must have to be extracted\nin the initial fit stage. Once a candidate peak drops below this threshold, the peak\nsearch is halted (without including the most recent candidate). Note that because\nthis constraint is enforced during peak search, and prior to final peak fit, returned\npeaks are not guaranteed to surpass this value in amplitude.\n\nNote: there are two different amplitude-related halting conditions for the peak searching.\nBy default, the relative (standard-deviation based) threshold is defined, whereas the\nabsolute threshold is set to zero (this default is because there is no general way to\nset this value without knowing the scale of the data). If both are defined, both are\nused and the peak search will halt when a candidate peak fails to pass either the absolute,\nor relative threshold.\n\nAperiodic Signal Fitting Approach\n~~~~~~~~~~~~~~~~~~~~~~~~~~~~~~~~~\n\n**aperiodic_mode (string)** default='fixed'\n\nThe fitting approach to use for the aperiodic signal.\n\nOptions:\n  - 'fixed' : fits without a knee parameter (with the knee parameter 'fixed' at 0)\n  - 'knee' : fits the full exponential equation, including the 'knee' parameter\n\nVerbosity\n~~~~~~~~~\n\n**verbose (boolean)** default='True'\n\nWhether to print out status updates and warnings.\n\n\n"
      ]
    },
    {
      "cell_type": "code",
      "execution_count": null,
      "metadata": {
        "collapsed": false
      },
      "outputs": [],
      "source": [
        "# You can check all the user defined FOOOF settings with check_settings\n#  The description parameter here is set to print out quick descriptions of the settings\nfm.print_settings(description=True)"
      ]
    },
    {
      "cell_type": "markdown",
      "metadata": {},
      "source": [
        "Data (attributes)\n^^^^^^^^^^^^^^^^^\n\nFOOOF stores the frequency vector, power spectrum, frequency range, and frequency resolution.\n\nDuring the fit procedure, interim (hidden) data variables are also created and used.\n\n\n"
      ]
    },
    {
      "cell_type": "code",
      "execution_count": null,
      "metadata": {
        "collapsed": false
      },
      "outputs": [],
      "source": [
        "# Load a piece of example data\nfreqs = np.load('dat/freqs_2.npy')\nspectrum = np.load('dat/spectrum_2.npy')"
      ]
    },
    {
      "cell_type": "code",
      "execution_count": null,
      "metadata": {
        "collapsed": false
      },
      "outputs": [],
      "source": [
        "# Set a frequency range and add the data to the FOOOF object\nfreq_range = [2, 40]\nfm.add_data(freqs, spectrum, freq_range)"
      ]
    },
    {
      "cell_type": "code",
      "execution_count": null,
      "metadata": {
        "collapsed": false
      },
      "outputs": [],
      "source": [
        "# Check out the data attributes in the FOOOF object\nprint('Frequency Vector: \\t', fm.freqs[0:5])\nprint('Frequency Range: \\t', fm.freq_range)\nprint('Frequency Resolution: \\t', fm.freq_res)\nprint('Power Values: \\t\\t', fm.power_spectrum[0:5])"
      ]
    },
    {
      "cell_type": "markdown",
      "metadata": {},
      "source": [
        "Methods\n^^^^^^^\n\nThe FOOOF object contains a number of methods that operate on the FOOOF\nobject data, and/or do utility functions.\n\nIn addition to the exposed methods, there are some internal private methods,\nwith a leading underscore in their name, that are called in the\nfitting procedure. These methods should not be called independently, as they may\ndepend on internal state as defined from other methods.\n\n\n"
      ]
    },
    {
      "cell_type": "code",
      "execution_count": null,
      "metadata": {
        "collapsed": false
      },
      "outputs": [],
      "source": [
        "# This piece of code is just a way to print out all the public methods with their description\n[print(it + '\\n\\t' + eval('fm.' + it + '.__doc__').split('\\n')[0]) \\\n for it in dir(fm) if it[0] != '_' and callable(eval('fm.' + it))];"
      ]
    },
    {
      "cell_type": "markdown",
      "metadata": {},
      "source": [
        "Fitting FOOOF with Different Settings\n-------------------------------------\n\nIf you wish to change these settings, then you should re-initialize\nthe FOOOF object with new settings.\n\nSimply resetting the relevant attribute may not appropriately propragate the value,\nand may fail, either by erroring out, or not applying the settings properly during\nfit and returning erroneous results.\n\nHere we will re-initialize a new FOOOF object, with some new settings, and fit the model.\n\n\n"
      ]
    },
    {
      "cell_type": "code",
      "execution_count": null,
      "metadata": {
        "collapsed": false
      },
      "outputs": [],
      "source": [
        "# Initialize FOOOF model, with some specified settings\nfm = FOOOF(peak_width_limits=[1, 8], max_n_peaks=6, min_peak_amplitude=0.15)\n\n# Fit FOOOF\nfm.report(freqs, spectrum, freq_range)"
      ]
    },
    {
      "cell_type": "markdown",
      "metadata": {},
      "source": [
        "Results (attributes)\n^^^^^^^^^^^^^^^^^^^^\n\nFOOOF follows the scipy convention in that any attributes that result from fitting\nto the data are indicated by a trailing underscore:\n\n- `fm.aperiodic\\_params_`, `fm.peak\\_params\\_`, `fm.fooofed\\_spectrum\\_`,\n  `fm.r\\_squared\\_`, `fm.error\\_`\n\n\n"
      ]
    },
    {
      "cell_type": "code",
      "execution_count": null,
      "metadata": {
        "collapsed": false
      },
      "outputs": [],
      "source": [
        "# Print out model fit results\nprint('aperiodic params: \\t', fm.aperiodic_params_)\nprint('peak params: \\t',fm.peak_params_)\nprint('r-squared: \\t', fm.r_squared_)\nprint('fit error: \\t', fm.error_)\nprint('fooofed spectrum: \\t',fm.fooofed_spectrum_[0:5])"
      ]
    },
    {
      "cell_type": "markdown",
      "metadata": {},
      "source": [
        "FOOOF - Saving & Reports\n------------------------\n\nFOOOF also has support for saving out, and loading back in, data.\n\nYou have the option to specify which data to save.\n\n- results: model fit results (same as is returned in FOOOFResult)\n- settings: all public settings (everything available at initialization)\n- data: freqs & power spectrum\n\nFOOOF saves data out to JSON files. You can specify a file name to save\nor append to, or pass in a JSON file object.\n\n\n"
      ]
    },
    {
      "cell_type": "code",
      "execution_count": null,
      "metadata": {
        "collapsed": false
      },
      "outputs": [],
      "source": [
        "# Saving FOOOF results, settings, and data\nfm.save(save_results=True, save_settings=True, save_data=True)"
      ]
    },
    {
      "cell_type": "code",
      "execution_count": null,
      "metadata": {
        "collapsed": false
      },
      "outputs": [],
      "source": [
        "# Loading FOOOF results\nnfm = FOOOF()\nnfm.load()"
      ]
    },
    {
      "cell_type": "code",
      "execution_count": null,
      "metadata": {
        "collapsed": false
      },
      "outputs": [],
      "source": [
        "# Plot loaded results\nnfm.plot()"
      ]
    },
    {
      "cell_type": "markdown",
      "metadata": {},
      "source": [
        "Create a Report\n---------------\n\nFOOOF also has functionality to save out a 'report' of a particular model fit.\n\nThis generates and saves a PDF which contains the same output as\n'print_results', 'plot', and 'print_settings'.\n\n\n"
      ]
    },
    {
      "cell_type": "code",
      "execution_count": null,
      "metadata": {
        "collapsed": false
      },
      "outputs": [],
      "source": [
        "# Save out a report of the current FOOOF model fit & results\n#  By default (with no inputs) this saves a PDF to current directory, with the name 'FOOOF_Report'\n#    Add inputs to the method call to specify a file-name, and save-location\nfm.save_report()"
      ]
    },
    {
      "cell_type": "code",
      "execution_count": null,
      "metadata": {
        "collapsed": false
      },
      "outputs": [],
      "source": [
        "# If you're in a notebook, you can use this code to check what the generated report looks like\nfrom IPython.display import IFrame\nIFrame(\"FOOOF_Report.pdf\", width=950, height=1200)"
      ]
    }
  ],
  "metadata": {
    "kernelspec": {
      "display_name": "Python 3",
      "language": "python",
      "name": "python3"
    },
    "language_info": {
      "codemirror_mode": {
        "name": "ipython",
        "version": 3
      },
      "file_extension": ".py",
      "mimetype": "text/x-python",
      "name": "python",
      "nbconvert_exporter": "python",
      "pygments_lexer": "ipython3",
      "version": "3.7.1"
    }
  },
  "nbformat": 4,
  "nbformat_minor": 0
}