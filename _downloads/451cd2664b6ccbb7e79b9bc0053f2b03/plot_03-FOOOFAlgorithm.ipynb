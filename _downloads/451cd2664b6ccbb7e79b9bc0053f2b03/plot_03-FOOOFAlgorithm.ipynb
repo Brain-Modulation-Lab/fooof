{
  "cells": [
    {
      "cell_type": "code",
      "execution_count": null,
      "metadata": {
        "collapsed": false
      },
      "outputs": [],
      "source": [
        "%matplotlib inline"
      ]
    },
    {
      "cell_type": "markdown",
      "metadata": {},
      "source": [
        "\n03: FOOOF Algorithm\n===================\n\nA step by step overview of the FOOOF algorithm.\n\nNote that this notebook is for demonstrative purposes, and does not\nrepresent recommended usage of the FOOOF module.\n\n"
      ]
    },
    {
      "cell_type": "markdown",
      "metadata": {},
      "source": [
        "Algorithmic Description\n-----------------------\n\nBriefly, the algorithm proceeds as such:\n\n- An initial fit of the aperiodic signal is taken across the power spectrum\n- This aperiodic fit is subtracted from the power spectrum, creating a flattened spectrum\n- Peaks are iteratively found in this flattened spectrum\n- A full peak fit is created of all peak candidates found\n- The peak fit is subtracted from the original power spectrum,\n  creating a peak-removed power spectrum\n- A final fit of the aperiodic signal is taken of the peak-removed power spectrum\n\n"
      ]
    },
    {
      "cell_type": "code",
      "execution_count": null,
      "metadata": {
        "collapsed": false
      },
      "outputs": [],
      "source": [
        "# General imports\nimport numpy as np\nimport matplotlib.pyplot as plt\n\n# Import the FOOOF object\nfrom fooof import FOOOF\n\n# Import a function to generate synthetic power spectra\nfrom fooof.synth.gen import gen_aperiodic\n\n# Import some internal functions from FOOOF\n#  Note that these are used here for demonstration: - you do not need to import them to run FOOOF\nfrom fooof.core.funcs import gaussian_function\nfrom fooof.plts.spectra import plot_spectrum\nfrom fooof.plts.fm import plot_peak_iter"
      ]
    },
    {
      "cell_type": "code",
      "execution_count": null,
      "metadata": {
        "collapsed": false
      },
      "outputs": [],
      "source": [
        "# Set whether to plot in log-log space (used across the whole notebook)\nplt_log = False"
      ]
    },
    {
      "cell_type": "code",
      "execution_count": null,
      "metadata": {
        "collapsed": false
      },
      "outputs": [],
      "source": [
        "# Load example data\nfreqs = np.load('./dat/freqs_2.npy')\nspectrum = np.load('./dat/spectrum_2.npy')"
      ]
    },
    {
      "cell_type": "code",
      "execution_count": null,
      "metadata": {
        "collapsed": false
      },
      "outputs": [],
      "source": [
        "# Initialize a FOOOF object, with some settings\nfm = FOOOF(peak_width_limits=[1, 8], max_n_peaks=6 , min_peak_amplitude=0.15)"
      ]
    },
    {
      "cell_type": "markdown",
      "metadata": {},
      "source": [
        "Note that data can be added to FOOOF independent of fitting the model.\nYou can then plot input data.\n\n\n"
      ]
    },
    {
      "cell_type": "code",
      "execution_count": null,
      "metadata": {
        "collapsed": false
      },
      "outputs": [],
      "source": [
        "# Add data to FOOOF object\nfm.add_data(freqs, spectrum, [3, 40])"
      ]
    },
    {
      "cell_type": "code",
      "execution_count": null,
      "metadata": {
        "collapsed": false
      },
      "outputs": [],
      "source": [
        "# Plot the power spectrum that we just created\nfm.plot(plt_log)"
      ]
    },
    {
      "cell_type": "markdown",
      "metadata": {},
      "source": [
        "The FOOOF object stores most of the intermediate steps internally.\n\nFor this notebook, we will first fit the full model, as normal, but then step through,\nand visualize each step the algorithm takes to come to that final fit.\n\n\n"
      ]
    },
    {
      "cell_type": "code",
      "execution_count": null,
      "metadata": {
        "collapsed": false
      },
      "outputs": [],
      "source": [
        "# Fit the FOOOF model\nfm.fit(freqs, spectrum, [3, 40])"
      ]
    },
    {
      "cell_type": "code",
      "execution_count": null,
      "metadata": {
        "collapsed": false
      },
      "outputs": [],
      "source": [
        "# Do an initial aperiodic signal fit - a robust fit, that excludes outliers\n#  This recreates an initial fit that isn't ultimately stored in the FOOOF object)\ninit_ap_fit = gen_aperiodic(fm.freqs, fm._robust_ap_fit(fm.freqs, fm.power_spectrum))\n\n# Plot the initial aperiodic fit\n_, ax = plt.subplots(figsize=(12, 10))\nplot_spectrum(fm.freqs, fm.power_spectrum, plt_log, label='Original Power Spectrum', ax=ax)\nplot_spectrum(fm.freqs, init_ap_fit, plt_log, label='Initial Aperiodic Fit', ax=ax)"
      ]
    },
    {
      "cell_type": "markdown",
      "metadata": {},
      "source": [
        "The initial fit, as above, is used to create a flattened spectrum,\nfrom which peaks can be extracted.\n\n\n"
      ]
    },
    {
      "cell_type": "code",
      "execution_count": null,
      "metadata": {
        "collapsed": false
      },
      "outputs": [],
      "source": [
        "# Flatten the power spectrum, by subtracting out the initial aperiodic fit\nplot_spectrum(fm.freqs, fm._spectrum_flat, plt_log, label='Flattened Spectrum')"
      ]
    },
    {
      "cell_type": "markdown",
      "metadata": {},
      "source": [
        "With the flattened spectrum, FOOOF then initiates an iterative procedure to find peaks.\n\nFor each iteration:\n\n- The maximum point of the flattened spectrum is found.\n\n  - If this point fails to pass the relative or absolute amplitude threshold,\n    the procedure halts.\n- A Gaussian is fit around this maximum point\n- This 'guess' Gaussian is then subtracted from the flatted spectrum\n- The procedure continues to a new iteration with the new version of the flattend spectrum,\n  unless `max_n_peaks` has been reached\n\n\n"
      ]
    },
    {
      "cell_type": "code",
      "execution_count": null,
      "metadata": {
        "collapsed": false
      },
      "outputs": [],
      "source": [
        "# Plot the iterative approach to finding peaks from the flattened spectrum\nplot_peak_iter(fm)"
      ]
    },
    {
      "cell_type": "markdown",
      "metadata": {},
      "source": [
        "Once the iterative procedure has halted, the extracted 'guess' peaks,\nare then re-fit, all together, to the flattened spectrum, creating a peak fit.\n\n\n"
      ]
    },
    {
      "cell_type": "code",
      "execution_count": null,
      "metadata": {
        "collapsed": false
      },
      "outputs": [],
      "source": [
        "# Fit gaussians to all candidate peaks together, and create peak fit\nplot_spectrum(fm.freqs, fm._peak_fit, plt_log)"
      ]
    },
    {
      "cell_type": "markdown",
      "metadata": {},
      "source": [
        "This is now the peak component of the fit completed. This fit is then used to go\nback and try and get a better aperiodic fit.\n\nTo do so, the peak fit is removed from the original power spectrum,\nleaving an 'aperiodic-only' spectrum for re-fitting.\n\n\n"
      ]
    },
    {
      "cell_type": "code",
      "execution_count": null,
      "metadata": {
        "collapsed": false
      },
      "outputs": [],
      "source": [
        "# Create peak removed power spectrum (by removing peak fit from original spectrum)\nplot_spectrum(fm.freqs, fm._spectrum_peak_rm, plt_log, label='Peak Removed Spectrum')"
      ]
    },
    {
      "cell_type": "code",
      "execution_count": null,
      "metadata": {
        "collapsed": false
      },
      "outputs": [],
      "source": [
        "# Fit the final aperiodic fit on the peak removed power spectrum\n_, ax = plt.subplots(figsize=(12, 10))\nplot_spectrum(fm.freqs, fm._spectrum_peak_rm, plt_log, label='Peak Removed Spectrum', ax=ax)\nplot_spectrum(fm.freqs, fm._ap_fit, plt_log, label='Final Aperiodic Fit', ax=ax)"
      ]
    },
    {
      "cell_type": "markdown",
      "metadata": {},
      "source": [
        "The aperiodic fit component of the model is now also complete.\nThe two components can now be combined.\n\n\n"
      ]
    },
    {
      "cell_type": "code",
      "execution_count": null,
      "metadata": {
        "collapsed": false
      },
      "outputs": [],
      "source": [
        "# Recreate the full FOOOF model, by combining the peak and aperiodic fits\nplot_spectrum(fm.freqs, fm.fooofed_spectrum_, plt_log, label='Full Model')"
      ]
    },
    {
      "cell_type": "code",
      "execution_count": null,
      "metadata": {
        "collapsed": false
      },
      "outputs": [],
      "source": [
        "# The last stage is to calculate the fit error, R^2, and update gaussian parameters -> peak parameters\n#  These results are part of what are stored, and printed, as the model results\nfm.print_results()"
      ]
    },
    {
      "cell_type": "code",
      "execution_count": null,
      "metadata": {
        "collapsed": false
      },
      "outputs": [],
      "source": [
        "# Plot the full model fit of the power spectrum\n#  The final fit (red), and aperiodic fit (blue), are the same as we plotted above\nfm.plot(plt_log)"
      ]
    }
  ],
  "metadata": {
    "kernelspec": {
      "display_name": "Python 3",
      "language": "python",
      "name": "python3"
    },
    "language_info": {
      "codemirror_mode": {
        "name": "ipython",
        "version": 3
      },
      "file_extension": ".py",
      "mimetype": "text/x-python",
      "name": "python",
      "nbconvert_exporter": "python",
      "pygments_lexer": "ipython3",
      "version": "3.7.1"
    }
  },
  "nbformat": 4,
  "nbformat_minor": 0
}