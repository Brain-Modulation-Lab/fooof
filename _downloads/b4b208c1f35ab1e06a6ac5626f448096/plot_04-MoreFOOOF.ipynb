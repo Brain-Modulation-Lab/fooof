{
  "cells": [
    {
      "cell_type": "code",
      "execution_count": null,
      "metadata": {
        "collapsed": false
      },
      "outputs": [],
      "source": [
        "%matplotlib inline"
      ]
    },
    {
      "cell_type": "markdown",
      "metadata": {},
      "source": [
        "\n04: Exploring the FOOOF Object\n==============================\n\nFurther exploring the FOOOF object, including algorithm settings and available methods.\n"
      ]
    },
    {
      "cell_type": "code",
      "execution_count": null,
      "metadata": {
        "collapsed": false
      },
      "outputs": [],
      "source": [
        "# Import numpy for loading data\nimport numpy as np\n\n# Import the FOOOF object\nfrom fooof import FOOOF"
      ]
    },
    {
      "cell_type": "code",
      "execution_count": null,
      "metadata": {
        "collapsed": false
      },
      "outputs": [],
      "source": [
        "# Initialize a FOOOF object, to use to explore\nfm = FOOOF()"
      ]
    },
    {
      "cell_type": "markdown",
      "metadata": {},
      "source": [
        "Description of FOOOF methods and parameters\n-------------------------------------------\n\nThe FOOOF object contents consist of 4 main components (groups of data / code):\n\n- 1) settings attributes, that control the algorithm fitting\n- 2) data attributes, that contain and describe the data\n- 3) result attributes, that contain the results of the model fit\n- 4) methods (functions) that perform procedures for fitting models and associated utilities\n\nEach these which are described in more detail below.\n\nFOOOF follows the following Python conventions:\n\n- all user exposed settings, data, and methods are directly accessible through the object\n- 'hidden' (internal) settings and methods have a leading underscore\n\n  - you *can* access these if you need to, but one should be cautious doing so\n\n\n"
      ]
    },
    {
      "cell_type": "markdown",
      "metadata": {},
      "source": [
        "1) Settings (attributes)\n^^^^^^^^^^^^^^^^^^^^^^^^\n\nThere are a number of parameters that control the FOOOF fitting algorithm, that\ncan be set by the user when initializing the FOOOF model.\n\nThere are some internal settings that are not exposed at initialization.\nThese settings are unlikely to need to be accessed by the user, but can be if desired -\nthey are all defined and documented in \\__init\\__ (there should be no other settings, or\n'magic numbers' in any other parts of the code).\n\n\n"
      ]
    },
    {
      "cell_type": "markdown",
      "metadata": {},
      "source": [
        "Controlling Peak Fits\n~~~~~~~~~~~~~~~~~~~~~\n\n**peak_width_limits (Hz)** default: [0.5, 12]\n\nEnforced limits on the minimum and maximum widths of extracted peaks, given as a list of\n[minimum bandwidth, maximum bandwidth]. We recommend bandwidths be set to be at last twice\nthe frequency resolution of the power spectrum.\n\n\n"
      ]
    },
    {
      "cell_type": "markdown",
      "metadata": {},
      "source": [
        "Peak Search Stopping Criteria\n~~~~~~~~~~~~~~~~~~~~~~~~~~~~~\n\nAn iterative procedure searches for candidate peaks in the flattened spectrum. Candidate\npeaks are extracted in order of decreasing height, until some stopping criterion is met,\nwhich is controlled by the following parameters:\n\n**max_n_peaks (int)** default: infinite\n\nThe maximum number of peaks that can be extracted from a given power spectrum. FOOOF will\nhalt searching for new peaks when this number is reached. Note that FOOOF extracts peaks\niteratively by height (over and above the aperiodic component), and so this approach will\nextract (up to) the *n* largest peaks.\n\n**peak_threshold (in units of standard deviation)** default: 2.0\n\nThe threshold, in terms of standard deviation of the aperiodic-removed power\nspectrum, above which a data point must pass to be considered a candidate peak.\nOnce a candidate peak drops below this threshold, the peak search is halted (without\nincluding the most recent candidate).\n\n**min_peak_height (units of power - same as the input spectrum)** default: 0\n\nThe minimum height, above the aperiodic fit, that a peak must have to be extracted\nin the initial fit stage. Once a candidate peak drops below this threshold, the peak\nsearch is halted (without including the most recent candidate). Note that because\nthis constraint is enforced during peak search, and prior to final peak fit, returned\npeaks are not guaranteed to surpass this value in height.\n\nNote: there are two different height-related halting conditions for the peak searching.\nBy default, the relative (standard-deviation based) threshold is defined, whereas the\nabsolute threshold is set to zero (this default is because there is no general way to\nset this value without knowing the scale of the data). If both are defined, both are\nused and the peak search will halt when a candidate peak fails to pass either the absolute,\nor relative threshold.\n\nAperiodic Mode\n~~~~~~~~~~~~~~\n\n**aperiodic_mode (string)** default='fixed'\n\nThe fitting approach to use for the aperiodic component.\n\nOptions:\n  - 'fixed' : fits without a knee parameter (with the knee parameter 'fixed' at 0)\n  - 'knee' : fits the full exponential equation, including the 'knee' parameter\n\nVerbosity\n~~~~~~~~~\n\n**verbose (boolean)** default='True'\n\nWhether to print out status updates and warnings.\n\n\n"
      ]
    },
    {
      "cell_type": "code",
      "execution_count": null,
      "metadata": {
        "collapsed": false
      },
      "outputs": [],
      "source": [
        "# You can check all the user defined FOOOF settings with check_settings\n#  The description parameter here is set to print out quick descriptions of the settings\nfm.print_settings(description=True)"
      ]
    },
    {
      "cell_type": "markdown",
      "metadata": {},
      "source": [
        "Changing FOOOF Settings\n~~~~~~~~~~~~~~~~~~~~~~~\n\nNote that if you wish to change settings, then you should re-initialize\nthe FOOOF object with new settings.\n\nSimply changing the value of the relevant attribute may not appropriately propagate\nthe value, and thus may lead to a failure, either creating an error, or not applying\nthe settings properly during fit and returning erroneous results.\n\nHere we will re-initialize a new FOOOF object, with some new settings.\n\n\n"
      ]
    },
    {
      "cell_type": "code",
      "execution_count": null,
      "metadata": {
        "collapsed": false
      },
      "outputs": [],
      "source": [
        "# Re-initialize a new FOOOF model, with some specified settings\nfm = FOOOF(peak_width_limits=[1, 8], max_n_peaks=6, min_peak_height=0.15)"
      ]
    },
    {
      "cell_type": "markdown",
      "metadata": {},
      "source": [
        "2) Data (attributes)\n^^^^^^^^^^^^^^^^^^^^\n\nFOOOF stores the following data attributes:\n\n- `freqs`: the frequency values corresponding to the data\n- `power_spectrum`: the power spectrum\n- `freq_range`: the frequency range of the data\n- `freq_res`: the frequency resolution of the data\n\nDuring the fit procedure, interim (hidden) data variables are also created and used.\n\nThe FOOOF object also has an indicator attribute, `has_data` which indicates\nif the current object has data loaded.\n\n\n"
      ]
    },
    {
      "cell_type": "code",
      "execution_count": null,
      "metadata": {
        "collapsed": false
      },
      "outputs": [],
      "source": [
        "# Load a piece of example data\nfreqs = np.load('data/freqs_2.npy')\nspectrum = np.load('data/spectrum_2.npy')"
      ]
    },
    {
      "cell_type": "code",
      "execution_count": null,
      "metadata": {
        "collapsed": false
      },
      "outputs": [],
      "source": [
        "# Set a frequency range and add the data to the FOOOF object\nfreq_range = [2, 40]\nfm.add_data(freqs, spectrum, freq_range)"
      ]
    },
    {
      "cell_type": "code",
      "execution_count": null,
      "metadata": {
        "collapsed": false
      },
      "outputs": [],
      "source": [
        "# Check if the FOOOF object has data loaded\nprint('Has model results: ', fm.has_data)"
      ]
    },
    {
      "cell_type": "code",
      "execution_count": null,
      "metadata": {
        "collapsed": false
      },
      "outputs": [],
      "source": [
        "# Check out the data attributes in the FOOOF object\nprint('Frequency Range: \\t', fm.freq_range)\nprint('Frequency Resolution: \\t', fm.freq_res)\nprint('Frequency Values: \\t', fm.freqs[0:5])\nprint('Power Values: \\t\\t', fm.power_spectrum[0:5])"
      ]
    },
    {
      "cell_type": "markdown",
      "metadata": {},
      "source": [
        "Now that we have picked our settings, and added the data, let's fit our FOOOF model.\n\n\n"
      ]
    },
    {
      "cell_type": "code",
      "execution_count": null,
      "metadata": {
        "collapsed": false
      },
      "outputs": [],
      "source": [
        "# Fit FOOOF model to the loaded data\nfm.fit()"
      ]
    },
    {
      "cell_type": "markdown",
      "metadata": {},
      "source": [
        "3) Results (attributes)\n^^^^^^^^^^^^^^^^^^^^^^^\n\nWith our model fit, the results attributes should now hold values.\n\nRecall that FOOOF follows the scipy convention in that any attributes that contain\nmodel results are indicated by a trailing underscore.\n\nThe model results stored by the object are:\n\n- `aperiodic\\_params_`: a list of aperiodic parameters, stored as [Offset, (Knee), Exponent]\n- `peak\\_params\\_`: all periodic parameters, where each row is a peak, as [CF, PW, BW]\n- `r\\_squared\\_`: the r-squared of the model, as compared to the original data\n- `error\\_`: the error of the model, as compared to the original data\n\nOther attributes which store outputs from the model are:\n\n- `fooofed\\_spectrum\\_`: the full model reconstruction\n- `n\\_peaks\\_`: a helper attribute which indicates how many peaks were fit in the model\n\nThe FOOOF object also has an indicator attribute, `has_model` which indicates\nif the current object has model results available.\n\n\n"
      ]
    },
    {
      "cell_type": "code",
      "execution_count": null,
      "metadata": {
        "collapsed": false
      },
      "outputs": [],
      "source": [
        "# Check if the FOOOF object has model results\nprint('Has model results: ', fm.has_model)"
      ]
    },
    {
      "cell_type": "code",
      "execution_count": null,
      "metadata": {
        "collapsed": false
      },
      "outputs": [],
      "source": [
        "# Print out model fit results\nprint('aperiodic params: \\t', fm.aperiodic_params_)\nprint('peak params: \\t',fm.peak_params_)\nprint('r-squared: \\t', fm.r_squared_)\nprint('fit error: \\t', fm.error_)\nprint('fooofed spectrum: \\t',fm.fooofed_spectrum_[0:5])"
      ]
    },
    {
      "cell_type": "markdown",
      "metadata": {},
      "source": [
        "4) Methods\n^^^^^^^^^^\n\nThe FOOOF object contains a number of methods that are either used to fit\nmodels and access data, and/or offer extra functionality.\n\nIn addition to the exposed methods, there are some internal private methods,\nwith a leading underscore in their name, that are called in the\nfitting procedure. These methods should not be called directly by the user\nas they may depend on internal state of the object as defined from other methods,\nand so may not do as expected in isolation.\n\n\n"
      ]
    },
    {
      "cell_type": "code",
      "execution_count": null,
      "metadata": {
        "collapsed": false
      },
      "outputs": [],
      "source": [
        "# This piece of code is just a way to print out all the public methods with their description\n[print(it + '\\n\\t' + eval('fm.' + it + '.__doc__').split('\\n')[0]) \\\n for it in dir(fm) if it[0] != '_' and callable(eval('fm.' + it))];"
      ]
    },
    {
      "cell_type": "markdown",
      "metadata": {},
      "source": [
        "Saving Data & Results\n~~~~~~~~~~~~~~~~~~~~~\n\nFOOOF also has support for saving out, and loading back in, data and results.\n\nYou have the option to specify which data to save.\n\n- results: model fit results (same as is returned in FOOOFResult)\n- settings: all public settings (everything available at initialization)\n- data: freqs & power spectrum\n\nFOOOF saves data out to JSON files. You can specify a file name to save\nor append to, or pass in a JSON file object.\n\n\n"
      ]
    },
    {
      "cell_type": "code",
      "execution_count": null,
      "metadata": {
        "collapsed": false
      },
      "outputs": [],
      "source": [
        "# Saving FOOOF results, settings, and data\nfm.save('FOOOF_results', save_results=True, save_settings=True, save_data=True)"
      ]
    },
    {
      "cell_type": "code",
      "execution_count": null,
      "metadata": {
        "collapsed": false
      },
      "outputs": [],
      "source": [
        "# Loading FOOOF results\nnfm = FOOOF()\nnfm.load('FOOOF_results')"
      ]
    },
    {
      "cell_type": "code",
      "execution_count": null,
      "metadata": {
        "collapsed": false
      },
      "outputs": [],
      "source": [
        "# Plot loaded results\nnfm.plot()"
      ]
    },
    {
      "cell_type": "markdown",
      "metadata": {},
      "source": [
        "Creating Reports\n~~~~~~~~~~~~~~~~\n\nFOOOF also has functionality to save out a 'report' of a particular model fit.\n\nThis generates and saves a PDF which contains the same output as\n'print_results', 'plot', and 'print_settings'.\n\n\n"
      ]
    },
    {
      "cell_type": "code",
      "execution_count": null,
      "metadata": {
        "collapsed": false
      },
      "outputs": [],
      "source": [
        "# Save out a report of the current FOOOF model fit & results\n#  By default (with no inputs) this saves a PDF to current directory, with the name 'FOOOF_Report'\n#    Add inputs to the method call to specify a file-name, and save-location\nfm.save_report('FOOOF_report')"
      ]
    },
    {
      "cell_type": "code",
      "execution_count": null,
      "metadata": {
        "collapsed": false
      },
      "outputs": [],
      "source": [
        "# If you're in a notebook, you can use this code to check what the generated report looks like\nfrom IPython.display import IFrame\nIFrame(\"FOOOF_report.pdf\", width=950, height=1200)"
      ]
    },
    {
      "cell_type": "markdown",
      "metadata": {},
      "source": [
        "Conclusion\n----------\n\nWe have now fully explored the FOOOF model object, and all it contains. Next,\nwe will take a deeper dive into how to choose different modes for fitting\nthe aperiodic component of power spectra.\n\n\n"
      ]
    }
  ],
  "metadata": {
    "kernelspec": {
      "display_name": "Python 3",
      "language": "python",
      "name": "python3"
    },
    "language_info": {
      "codemirror_mode": {
        "name": "ipython",
        "version": 3
      },
      "file_extension": ".py",
      "mimetype": "text/x-python",
      "name": "python",
      "nbconvert_exporter": "python",
      "pygments_lexer": "ipython3",
      "version": "3.7.4"
    }
  },
  "nbformat": 4,
  "nbformat_minor": 0
}