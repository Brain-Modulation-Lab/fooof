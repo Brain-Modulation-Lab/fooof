{
  "cells": [
    {
      "cell_type": "code",
      "execution_count": null,
      "metadata": {
        "collapsed": false
      },
      "outputs": [],
      "source": [
        "%matplotlib inline"
      ]
    },
    {
      "cell_type": "markdown",
      "metadata": {},
      "source": [
        "\n02: Fitting FOOOF Models\n========================\n\nBasic usage of the FOOOF object.\n\n"
      ]
    },
    {
      "cell_type": "code",
      "execution_count": null,
      "metadata": {
        "collapsed": false
      },
      "outputs": [],
      "source": [
        "# Import numpy to load example data\nimport numpy as np\n\n# Import the FOOOF object\nfrom fooof import FOOOF"
      ]
    },
    {
      "cell_type": "code",
      "execution_count": null,
      "metadata": {
        "collapsed": false
      },
      "outputs": [],
      "source": [
        "# Load example data to use for this tutorial (a single example power spectrum)\nfreqs = np.load('dat/freqs.npy')\nspectrum = np.load('dat/spectrum.npy')"
      ]
    },
    {
      "cell_type": "markdown",
      "metadata": {},
      "source": [
        "FOOOF Object\n------------\n\nFooof is an object oriented module.\n\nAt the core of the module is the FOOOF object, which holds relevant data and settings\nas attributes, and procedures to run the FOOOF algorithm as methods.\n\nThe organization is similar to sklearn:\n\n- A model object is initialized, with relevant settings\n- The model is used to fit the data\n- Results can be extracted from the object\n\n\n"
      ]
    },
    {
      "cell_type": "markdown",
      "metadata": {},
      "source": [
        "FOOOF Example\n-------------\n\nThe following example demonstrates fitting a FOOOF model on a single power spectrum.\n\n\n"
      ]
    },
    {
      "cell_type": "code",
      "execution_count": null,
      "metadata": {
        "collapsed": false
      },
      "outputs": [],
      "source": [
        "# Initialize FOOOF model\nfm = FOOOF()\n\n# Set the frequency range upon which to fit FOOOF\nfreq_range = [2, 40]\n\n# Run FOOOF model - calculates model, plots, and prints results\nfm.report(freqs, spectrum, freq_range)"
      ]
    },
    {
      "cell_type": "markdown",
      "metadata": {},
      "source": [
        "FOOOF Report\n~~~~~~~~~~~~\n\nThe above method 'report', is a convenience method that calls a series of FOOOF methods:\n\n- :func:`fit`:  fits the FOOOF model\n- :func:`print_results`: prints out the results, in string form\n- :func:`plot`: plots to data and model fit\n\nEach of these methods can each be called individually.\n\n\n"
      ]
    },
    {
      "cell_type": "code",
      "execution_count": null,
      "metadata": {
        "collapsed": false
      },
      "outputs": [],
      "source": [
        "# Alternatively, just fit the model with FOOOF.fit() (without printing anything)\nfm.fit(freqs, spectrum, freq_range)\n\n# After fitting, plotting and parameter fitting can be called independently:\n# fm.print_results()\n# fm.plot()"
      ]
    },
    {
      "cell_type": "markdown",
      "metadata": {},
      "source": [
        "FOOOF Results\n~~~~~~~~~~~~~\n\nWhen the FOOOF model is calculated, the model fit parameters are stored as object\nattributes that can be accessed after fitting.\n\nFollowing the sklearn convention, attributes that are fit as a result of\nthe model have a trailing underscore:\n\n- aperiodic\\_params_\n- peak\\_params_\n- error\\_\n- r2\\_\n\n\n"
      ]
    },
    {
      "cell_type": "markdown",
      "metadata": {},
      "source": [
        "Access model fit parameters from FOOOF object, after fitting:\n\n\n"
      ]
    },
    {
      "cell_type": "code",
      "execution_count": null,
      "metadata": {
        "collapsed": false
      },
      "outputs": [],
      "source": [
        "# Aperiodic parameters\nprint('Aperiodic parameters: \\n', fm.aperiodic_params_, '\\n')\n\n# Peak parameters\nprint('Peak parameters: \\n', fm.peak_params_, '\\n')\n\n# Goodness of fit measures\nprint('Goodness of fit:')\nprint(' Error - ', fm.error_)\nprint(' R^2   - ', fm.r_squared_)"
      ]
    },
    {
      "cell_type": "markdown",
      "metadata": {},
      "source": [
        "Notes on Interpreting Peak Parameters\n-------------------------------------\n\nNote that the peak parameters that are returned are not exactly the same as the\nparameters of the Gaussians used internally to fit the peaks.\n\nSpecifically:\n\n- CF is the mean parameter of the Gaussian (same as the Gaussian)\n- Amp is the amplitude of the model fit above the aperiodic signal fit [1],\n  which is not necessarily the same as the Gaussian amplitude\n- BW is 2 * the standard deviation of the Gaussian [2]\n\n[1] Since the Gaussians are fit together, if any Gaussians overlap,\nthan the actual height of the fit at a given point can only be assessed\nwhen considering all Gaussians. To be better able to interpret amplitudes\nfor single peak fits, we re-define the peak amplitude as above.\n\n[2] Standard deviation is '1 sided', where as the returned BW is '2 sided'.\n\n\n"
      ]
    },
    {
      "cell_type": "markdown",
      "metadata": {},
      "source": [
        "The underlying gaussian parameters are also availabe from the FOOOF object,\nin the '_gaussian_params' attribute.\n\n\n"
      ]
    },
    {
      "cell_type": "markdown",
      "metadata": {},
      "source": [
        "Compare the 'peak\\_params_', as compared to the underlying gaussian parameters\n\n"
      ]
    },
    {
      "cell_type": "code",
      "execution_count": null,
      "metadata": {
        "collapsed": false
      },
      "outputs": [],
      "source": [
        "print('  Peak Parameters \\t Gaussian Parameters')\nfor peak, gau in zip(fm.peak_params_, fm._gaussian_params):\n    print('{:5.2f} {:5.2f} {:5.2f} \\t {:5.2f} {:5.2f} {:5.2f}'.format(*peak, *gau))"
      ]
    },
    {
      "cell_type": "markdown",
      "metadata": {},
      "source": [
        "FOOOFResults object\n~~~~~~~~~~~~~~~~~~~\n\nFOOOF also has a convenience method to return all model fit results: :func:`get_results`.\n\nIt returns all the model fit parameters, including the underlying Gaussian parameters.\n\nThe `get_results` methods collects and returns these results as a FOOOFResults object\n(a named tuple), to keep data organized, and allow for easier collecting.\n\n\n"
      ]
    },
    {
      "cell_type": "code",
      "execution_count": null,
      "metadata": {
        "collapsed": false
      },
      "outputs": [],
      "source": [
        "# Grab each model fit result with convenience method to gather all results\nap_params, peak_params, r_squared, fit_error, gauss_params = fm.get_results()\n\n# Get results actually returns a FOOOFResult object (a named tuple)\nfres = fm.get_results()"
      ]
    },
    {
      "cell_type": "code",
      "execution_count": null,
      "metadata": {
        "collapsed": false
      },
      "outputs": [],
      "source": [
        "# Print out the FOOOFResults\nprint(fres, '\\n')\n\n# From FOOOFResults, you can access the different results\nprint('Aperiodic Signal Parameters: \\n', fres.aperiodic_params)\n\n# Check the r^2 and error of the model fit\nprint('R-squared: \\n {:5.4f}'.format(fm.r_squared_))\nprint('Fit error: \\n {:5.4f}'.format(fm.error_))"
      ]
    }
  ],
  "metadata": {
    "kernelspec": {
      "display_name": "Python 3",
      "language": "python",
      "name": "python3"
    },
    "language_info": {
      "codemirror_mode": {
        "name": "ipython",
        "version": 3
      },
      "file_extension": ".py",
      "mimetype": "text/x-python",
      "name": "python",
      "nbconvert_exporter": "python",
      "pygments_lexer": "ipython3",
      "version": "3.7.1"
    }
  },
  "nbformat": 4,
  "nbformat_minor": 0
}