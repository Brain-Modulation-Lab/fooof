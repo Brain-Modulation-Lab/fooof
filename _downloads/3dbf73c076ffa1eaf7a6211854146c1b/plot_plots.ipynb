{
  "cells": [
    {
      "cell_type": "code",
      "execution_count": null,
      "metadata": {
        "collapsed": false
      },
      "outputs": [],
      "source": [
        "%matplotlib inline"
      ]
    },
    {
      "cell_type": "markdown",
      "metadata": {},
      "source": [
        "\nFOOOF Plots\n===========\n\nUse the plots available with FOOOF.\n\n"
      ]
    },
    {
      "cell_type": "code",
      "execution_count": null,
      "metadata": {
        "collapsed": false
      },
      "outputs": [],
      "source": [
        "# Import FOOOF plotting functions\nfrom fooof.plts.spectra import plot_spectrum, plot_spectra\nfrom fooof.plts.spectra import plot_spectrum_shading, plot_spectra_shading"
      ]
    },
    {
      "cell_type": "code",
      "execution_count": null,
      "metadata": {
        "collapsed": false
      },
      "outputs": [],
      "source": [
        "# Create a couple synthetic power spectra to explore plotting with\n#   Here we create two spectra, with different aperiodic components\n#   but each with the same oscillations (a theta, alpha & beta)\nfrom fooof.synth.gen import gen_group_power_spectra\nfs, ps, _ = gen_group_power_spectra(2, [3, 40], [[0.75, 1.5], [0.25, 1]],\n                                    [6, 0.2, 1, 10, 0.3, 1, 25, 0.15, 3])\nps1, ps2 = ps"
      ]
    },
    {
      "cell_type": "markdown",
      "metadata": {},
      "source": [
        "The FOOOF plotting module has plots for plotting single or multiple\npower spectra, options for plotting in linear or log space, and\nplots for shading frequency regions of interest.\n\nPlotting in FOOOF uses matplotlib. Plotting functions can also take in any\nmatplotlib keyword arguments, that will be passed into the plot call.\n\n"
      ]
    },
    {
      "cell_type": "code",
      "execution_count": null,
      "metadata": {
        "collapsed": false
      },
      "outputs": [],
      "source": [
        "# Create a spectrum plot with a single power spectrum\nplot_spectrum(fs, ps2, log_powers=True)"
      ]
    },
    {
      "cell_type": "code",
      "execution_count": null,
      "metadata": {
        "collapsed": false
      },
      "outputs": [],
      "source": [
        "# Plot multiple spectra on the same plot\nplot_spectra(fs, ps, log_freqs=True, log_powers=True)"
      ]
    },
    {
      "cell_type": "code",
      "execution_count": null,
      "metadata": {
        "collapsed": false
      },
      "outputs": [],
      "source": [
        "# Plot a single power spectrum, with a shaded region covering alpha\nplot_spectrum_shading(fs, ps1, [8, 12], log_powers=True)"
      ]
    },
    {
      "cell_type": "code",
      "execution_count": null,
      "metadata": {
        "collapsed": false
      },
      "outputs": [],
      "source": [
        "# Plot multiple power spectra, with shades covering theta & beta ranges\nplot_spectra_shading(fs, ps, [[4, 8], [20, 30]], log_powers=True)"
      ]
    }
  ],
  "metadata": {
    "kernelspec": {
      "display_name": "Python 3",
      "language": "python",
      "name": "python3"
    },
    "language_info": {
      "codemirror_mode": {
        "name": "ipython",
        "version": 3
      },
      "file_extension": ".py",
      "mimetype": "text/x-python",
      "name": "python",
      "nbconvert_exporter": "python",
      "pygments_lexer": "ipython3",
      "version": "3.7.1"
    }
  },
  "nbformat": 4,
  "nbformat_minor": 0
}