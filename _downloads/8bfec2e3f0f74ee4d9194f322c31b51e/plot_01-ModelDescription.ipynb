{
  "cells": [
    {
      "cell_type": "code",
      "execution_count": null,
      "metadata": {
        "collapsed": false
      },
      "outputs": [],
      "source": [
        "%matplotlib inline"
      ]
    },
    {
      "cell_type": "markdown",
      "metadata": {},
      "source": [
        "\n01: Model Description\n=====================\n\nA theoretical / mathematical description of the power spectrum model.\n"
      ]
    },
    {
      "cell_type": "markdown",
      "metadata": {},
      "source": [
        "Introduction\n------------\n\nWelcome to the tutorials!\n\nIn this first tutorial, we will introduce a conceptual overview and mathematical\ndescription of power spectrum model, as well as visualizing some example models.\n\nKeep in mind as you go, that if you want more information that describes, motivates, and\njustifies our modeling approach, you can also check out the associated\n`paper <https://www.biorxiv.org/content/early/2018/04/11/299859>`_,\nand/or the\n`motivations <https://fooof-tools.github.io/fooof/auto_tutorials/index.html>`_\nsection of the site.\n\n\n"
      ]
    },
    {
      "cell_type": "markdown",
      "metadata": {},
      "source": [
        "Example Power Spectra and Models\n~~~~~~~~~~~~~~~~~~~~~~~~~~~~~~~~\n\nFirst, we will import and run some code to simulate some example power spectra, and\nfit some power spectrum models to them. These example data will be used throughout this\ntutorial, to visualize some data and the model.\n\nFor the purpose of this tutorial, you don't need to know how this code works\nyet, and can skip past reading the code itself.\n\n\n"
      ]
    },
    {
      "cell_type": "code",
      "execution_count": null,
      "metadata": {
        "collapsed": false
      },
      "outputs": [],
      "source": [
        "# Import required code for visualizing example models\nfrom fooof import FOOOF\nfrom fooof.sim import gen_power_spectrum\nfrom fooof.plts.annotate import plot_annotated_model"
      ]
    },
    {
      "cell_type": "code",
      "execution_count": null,
      "metadata": {
        "collapsed": false
      },
      "outputs": [],
      "source": [
        "# Simulate example power spectra\nfreqs1, powers1 = gen_power_spectrum([3, 40], [1, 1], [[10, 0.2, 1.25], [30, 0.15, 2]])\nfreqs2, powers2 = gen_power_spectrum([1, 150], [1, 125, 1.25],\n                                     [[8, 0.15, 1.], [30, 0.1, 2]])\n\n# Initialize a power spectrum models and fit the power spectra\nfm1 = FOOOF(min_peak_height=0.05, verbose=False)\nfm2 = FOOOF(min_peak_height=0.05, aperiodic_mode='knee', verbose=False)\nfm1.fit(freqs1, powers1)\nfm2.fit(freqs2, powers2)"
      ]
    },
    {
      "cell_type": "markdown",
      "metadata": {},
      "source": [
        "Conceptual Overview\n-------------------\n\nThe goal of this module is to fit models to parameterize neural power spectra.\n\nOne reason to do so is the idea that there are multiple distinct 'components' within\nneural field data. The goal of the model is therefore to measure these different#\n'components' of the data.\n\nBy components, we mean that we are going to conceptualize neural field data as consisting\nof a combination of aperiodic and periodic (oscillatory) activity. Restated, we could say\nthat neural data contains both aperiodic and periodic components (or activity).\n\nThe goal of the model is to measure these components, separately and explicitly,\nfrom frequency representations of neural field data (neural power spectra).\n\n\n"
      ]
    },
    {
      "cell_type": "markdown",
      "metadata": {},
      "source": [
        "Visualizing Power Spectrum Models\n~~~~~~~~~~~~~~~~~~~~~~~~~~~~~~~~~\n\nFirst, let's start with an example power spectrum, which already has a model fit to it.\n\n\n"
      ]
    },
    {
      "cell_type": "code",
      "execution_count": null,
      "metadata": {
        "collapsed": false
      },
      "outputs": [],
      "source": [
        "# Plot an example power spectrum, with a model fit\nfm1.plot(plot_peaks='shade', peak_kwargs={'color' : 'green'})"
      ]
    },
    {
      "cell_type": "markdown",
      "metadata": {},
      "source": [
        "In the plot above, we see a power spectrum in which there is a trend decreasing power\nacross increasing frequencies. In some frequency regions, there is a 'peak' of power,\nover and above the general trend line across frequencies. These properties - power across\nall frequencies, with overlying peaks, we consider to be hallmarks of neural field data.\n\nMore specifically, we can describe this spectrum in terms of its 'components':\n\n- `aperiodic`: activity, with no characteristic frequency (or 'non-frequency specific' activity)\n\n  - in power spectra, this looks like a line, or curve, across all frequencies\n  - in the plot above, this is what's captured by the dashed blue line\n- `periodic` : activity, with a characteristic frequency\n\n  - in power spectra, this looks like a 'peak', or 'bump', reflecting frequency specific power\n  - in the plot above, this is what's captured by the green shaded peaks\n\nEach of these components also has different 'features' or 'properties', that we can and\nwant to describe and measure. Since these 'features' are things that we will be fitting in\nthe model, we will call them `parameters` (as in, the 'model parameters').\n\nThe full model of the power spectrum, in red, is the combination of the two components:\nthe aperiodic component and the periodic component, which is the set of peaks.\n\nThe goal of the model is to measure these two components, to create the full model\nfit, in a way that accurately and quantitatively describes the data, and in where the\nparameters fit in the model are useful and informative.\n\n\n"
      ]
    },
    {
      "cell_type": "markdown",
      "metadata": {},
      "source": [
        "Mathematical Description of Overall Model\n~~~~~~~~~~~~~~~~~~~~~~~~~~~~~~~~~~~~~~~~~\n\nTo enact the conceptual idea and description above, we will need to formalize the\nmodel described above. To do so, throughout this tutorial, we will lay out the mathematical\ndescription of how neural power spectra can be modeled as a combination of aperiodic\nand periodic activity.\n\nBroadly, the idea is to conceptualizing the power spectrum as:\n\n\\begin{align}NPS = AP + \\sum_{n=0}^{N} P_n\\end{align}\n\nWhere $NPS$ is a neural power spectrum, $AP$ is the aperiodic component,\nand each $P_n$ describes a peak, for $N$ peaks extracted from the power spectrum,\nwhich make up the periodic component.\n\nTo fit this model, we need to describe $AP$ and $P_n$. Each of these will be\ndescribed in their own section, explaining the specific functions used to measure each\ncomponent.\n\n\n"
      ]
    },
    {
      "cell_type": "markdown",
      "metadata": {},
      "source": [
        "Periodic Component\n------------------\n\nBy periodic activity, we mean activity that has a characteristic frequency.\nThis includes what are typically referred to as neural oscillations, often described\nin particular frequency bands such as delta, theta, alpha, beta, gamma, etc.\n\nIn the frequency domain, putative oscillations are frequency regions in which\nthere are 'bumps' of power over and above the aperiodic component.\nWe will generally refer to the these as 'peaks' in the neural power spectrum.\n\nTo measure the periodic activity, we would like to describe these peaks, without our\nmeasures of these peaks being influenced by co-occurring aperiodic activity.\nThis is important, since as we can see in the plots above, the aperiodic and periodic\ncomponents of the data can 'overlap', in frequency space. This means the total power\nat a given frequency can have contributions from both components. To measure periodic power,\nspecifically, we need to measure the power over and above the aperiodic component of the data.\n\nFirst let's explore an annotated version of our power spectrum model.\n\n\n"
      ]
    },
    {
      "cell_type": "code",
      "execution_count": null,
      "metadata": {
        "collapsed": false
      },
      "outputs": [],
      "source": [
        "# Plot an annotated version of the power spectrum model\nplot_annotated_model(fm1, annotate_aperiodic=False)"
      ]
    },
    {
      "cell_type": "markdown",
      "metadata": {},
      "source": [
        "In the labeled plot above, we can again see the different components of the model,\nas well as the labeled peak parameters.\n\nNote that vertical labels reflect parameters measured in the x-axis units, so in frequency,\nwhere as horizontal labels reflect parameters measured in y-axis units, so power.\n\nThe periodic parameters are:\n\n- the `center frequency` of the peak, in units of frequency\n- the `power` of the peak, over the aperiodic component, in units of power\n- the `bandwidth`, or the width of the peak, units of frequency\n\nWherever we detect a peak, these are the parameters that we will fit to the peak,\nto describe this component of the data.\n\n\n"
      ]
    },
    {
      "cell_type": "markdown",
      "metadata": {},
      "source": [
        "Mathematical Description of the Periodic Component\n~~~~~~~~~~~~~~~~~~~~~~~~~~~~~~~~~~~~~~~~~~~~~~~~~~\n\nTo fit these periodic components - the regions of power over above the aperiodic component,\nor 'peaks' - we use Gaussians.\n\nEach Gaussian, referred to as $G_n$, is of the form:\n\n\\begin{align}G_n = a * exp (\\frac{- (F - c)^2}{2 * w^2})\\end{align}\n\nThis describes each peak in terms of parameters `a`, `c` and `w`, where:\n\n- $a$ is the height of the peak, over and above the aperiodic component\n- $c$ is the center frequency of the peak\n- $w$ is the width of the peak\n- $F$ is the vector of input frequencies\n\n\n"
      ]
    },
    {
      "cell_type": "markdown",
      "metadata": {},
      "source": [
        "Aperiodic Component\n-------------------\n\nBy 'aperiodic' activity, we mean activity that is not rhythmic, or activity that has\nno characteristic frequency.\n\nIn the power spectrum, we typically see this as 1/f-like activity, in which the power\nacross frequencies decreases with a $\\frac{1}{F^\\chi}$ relationship.\n\nTo measure the aperiodic activity, we would like to describe the pattern of activity\nacross all frequencies, without our measure being influenced by any co-occurring periodic\nactivity (peaks).\n\n\n"
      ]
    },
    {
      "cell_type": "code",
      "execution_count": null,
      "metadata": {
        "collapsed": false
      },
      "outputs": [],
      "source": [
        "# Plot an annotated version of the power spectrum model\nplot_annotated_model(fm1, annotate_peaks=False)"
      ]
    },
    {
      "cell_type": "markdown",
      "metadata": {},
      "source": [
        "The aperiodic parameters in the above plot are:\n\n- the `offset`, or overall up/down translation of the whole spectrum\n- the `exponent`, which describes the 'curve', or overall 'line' of the aperiodic component\n\nNote that diagonal labels are unit-less measures (in neither units of frequency of power).\n\n\n"
      ]
    },
    {
      "cell_type": "markdown",
      "metadata": {},
      "source": [
        "Mathematical Description of the Aperiodic Component\n~~~~~~~~~~~~~~~~~~~~~~~~~~~~~~~~~~~~~~~~~~~~~~~~~~~\n\nTo fit the aperiodic component, we use an exponential function, which we\nwill refer to as $L$.\n\nNote that this function is fit on the semi-log power spectrum, meaning linear frequencies\nand $log_{10}$ power values. This is how we have been plotting so far.\n\nThe exponential is of the form:\n\n\\begin{align}L = 10^b * \\frac{1}{(k + F^\\chi)}\\end{align}\n\nOr, equivalently:\n\n\\begin{align}L = b - \\log(k + F^\\chi)\\end{align}\n\nIn this formulation, the parameters $b$, $k$, and $\\chi$\ndefine the aperiodic component, as:\n\n- $b$ is the broadband 'offset'\n- $k$ relates to the 'knee'\n- $\\chi$ is the 'exponent' of the aperiodic fit\n- $F$ is the vector of input frequencies\n\nNote that fitting the knee parameter is optional. If used, the knee parameter defines a\n'bend' in the aperiodic `1/f` like component of the data. If not used, the 'knee'\nparameter is set to zero.\n\nWe use this exponential form, with the option of a knee, since though neural data is often\ndiscussed in terms of having `1/f` activity, across broader frequency ranges, there is\ntypically not a single `1/f` characteristic. Using this form allows for modeling bends\nin the power spectrum of the aperiodic component, if and when they occur.\n\n\n"
      ]
    },
    {
      "cell_type": "markdown",
      "metadata": {},
      "source": [
        "A Note on Logging\n~~~~~~~~~~~~~~~~~\n\nSo far, we have been plotting in semi-log, meaning the x-axis (frequency) is in linear\nspacing, and the y-axis (power) is in log10 space. This is common practice, as power values\nare exponentially distributed.\n\nIt can also be useful, for visualization, to plot with both axes on a log scale.\nNote that plotting in log-log is just a visualization choice, and does not affect\nhow the data is stored and/or how models are fit.\n\nBelow we can see the same spectrum again, with all the annotations on, plotted in log-log.\nThe most notable difference, is that the aperiodic component is a straight line in log-log\nspacing. This is the hallmark of `1/f` activity.\n\n\n"
      ]
    },
    {
      "cell_type": "code",
      "execution_count": null,
      "metadata": {
        "collapsed": false
      },
      "outputs": [],
      "source": [
        "# Plot the power spectrum model, in log-log space\nplot_annotated_model(fm1, plt_log=True)"
      ]
    },
    {
      "cell_type": "markdown",
      "metadata": {},
      "source": [
        "Relating Exponents to Power Spectrum Slope\n~~~~~~~~~~~~~~~~~~~~~~~~~~~~~~~~~~~~~~~~~~\n\nAnother way to measure 1/f properties in neural power spectra is to measure the slope\nof the spectrum in log-log spacing, fitting a linear equation as:\n\n\\begin{align}NPS = ax + b\\end{align}\n\nWhere:\n\n- $a$ is the power spectrum slope\n- $b$ is the offset\n\nSince 1/f is a straight line in log-log spacing, this approach captures 1/f activity.\nThis is equivalent to the exponential fits that we perform (when fitting with no knee).\n\nThere is a direct relationship between the slope ($a$)\nand the exponent ($\\chi$), which is:\n\n\\begin{align}\\chi = -a\\end{align}\n\n\n"
      ]
    },
    {
      "cell_type": "markdown",
      "metadata": {},
      "source": [
        "Fitting Knees\n~~~~~~~~~~~~~\n\nIn the original model we fit and explored, there was no aperiodic 'knee'. Depending on\nthe data, or the frequency range, there may or may not be a knee present in the data\n(more on that later in the tutorial).\n\nIn the next plot, there is an annotated model, from a broader frequency range that also\nincludes a knee. When plotted in log-log, the presence of a knee can be seen as 'bend' or\n'knee' in the  aperiodic component.\n\n\n"
      ]
    },
    {
      "cell_type": "code",
      "execution_count": null,
      "metadata": {
        "collapsed": false
      },
      "outputs": [],
      "source": [
        "# Plot an annotated version of the power spectrum model\nplot_annotated_model(fm2, plt_log=True)"
      ]
    },
    {
      "cell_type": "markdown",
      "metadata": {},
      "source": [
        "The knee parameter fit to the model is a unit-less value that describes the curve of the\naperiodic component (when plotted in log-log spacing). On the plot above, the annotation\nreferences the knee as the dot on the plot at the bend point.\n\n\n"
      ]
    },
    {
      "cell_type": "markdown",
      "metadata": {},
      "source": [
        "Conclusion\n----------\n\nSo far, we how explored the power spectrum model defined as a combination of the aperiodic\nfit, $L$ defined by the exponential fit, and the periodic component, which is comprised\nof `N` peaks, where each $G_n$ is fit with a Gaussian.\n\nIn the next tutorial, we will start to use this model.\n\nFor more technical details on the model formulation and fitting process, check out the\n`paper <https://www.biorxiv.org/content/early/2018/04/11/299859>`_.\n\n\n"
      ]
    },
    {
      "cell_type": "markdown",
      "metadata": {},
      "source": [
        "Sphinx settings:\nsphinx_gallery_thumbnail_number = 5\n\n\n"
      ]
    }
  ],
  "metadata": {
    "kernelspec": {
      "display_name": "Python 3",
      "language": "python",
      "name": "python3"
    },
    "language_info": {
      "codemirror_mode": {
        "name": "ipython",
        "version": 3
      },
      "file_extension": ".py",
      "mimetype": "text/x-python",
      "name": "python",
      "nbconvert_exporter": "python",
      "pygments_lexer": "ipython3",
      "version": "3.7.4"
    }
  },
  "nbformat": 4,
  "nbformat_minor": 0
}