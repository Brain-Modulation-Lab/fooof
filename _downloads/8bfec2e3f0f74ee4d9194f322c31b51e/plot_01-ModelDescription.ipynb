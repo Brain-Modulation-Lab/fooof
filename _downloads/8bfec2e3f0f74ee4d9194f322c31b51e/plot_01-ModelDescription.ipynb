{
  "cells": [
    {
      "cell_type": "code",
      "execution_count": null,
      "metadata": {
        "collapsed": false
      },
      "outputs": [],
      "source": [
        "%matplotlib inline"
      ]
    },
    {
      "cell_type": "markdown",
      "metadata": {},
      "source": [
        "\n01: Model Description\n=====================\n\nA theoretical / mathematical description of the FOOOF model.\n"
      ]
    },
    {
      "cell_type": "markdown",
      "metadata": {},
      "source": [
        "Introduction\n------------\n\nHere we will first introduce a conceptual overview and mathematical description of\nthe approach employed here to parameterize neural power spectra.\n\nIf you wish to start with a more hands-on introduction of what the model looks like,\nyou can skip ahead to the next tutorial, and come back here after.\n\nIf you want more information that motivates and justifies our\nmodeling approach, you can also check out the\n`associated paper <https://www.biorxiv.org/content/early/2018/04/11/299859>`_,\nand/or the\n`motivations section <https://fooof-tools.github.io/fooof/auto_tutorials/index.html>`_\nof the documentation site.\n\n\n"
      ]
    },
    {
      "cell_type": "markdown",
      "metadata": {},
      "source": [
        "Conceptual Overview\n-------------------\n\nThe conceptual idea motivating the desire to parameterize neural power spectra is the\nidea that there are multiple distinct 'components' within neural field data,\nand we would like a way to explicitly and specifically model these different\naspects of the data.\n\nMore specifically, the FOOOF model conceptualizes the neural data as a combination\nof aperiodic and periodic (oscillatory) activity.\n\nThe goal of the model is to measure these component, separately and explicitly,\nfrom frequency representations of neural field data (neural power spectra).\n\n\n"
      ]
    },
    {
      "cell_type": "markdown",
      "metadata": {},
      "source": [
        "Aperiodic Activity\n~~~~~~~~~~~~~~~~~~\n\nBy 'aperiodic' activity, we mean activity that is not rhythmic, or activity that has\nno characteristic frequency.\n\nIn the power spectrum, we typically see this as 1/f-like activity, in which the power\nacross frequencies decreases with a $\\frac{1}{F^\\chi}$ relationship.\n\nTo measure the aperiodic activity, we would like to describe this activity,\nwithout our measure being influenced by any co-occurring periodic activity.\n\n\n"
      ]
    },
    {
      "cell_type": "markdown",
      "metadata": {},
      "source": [
        "Periodic Activity\n~~~~~~~~~~~~~~~~~\n\nBy periodic activity, we mean activity that does have a characteristic frequency.\nThis includes what are typically referred to as neural oscillations, often described\nin particular frequency bands such as delta, theta, alpha, beta, gamma, etc.\n\nIn the frequency domain, putative oscillations are frequency regions in which\nthere are 'bumps' of power over and above the aperiodic component.\nWe will generally refer to the these as 'peaks' in the neural power spectrum.\n\nTo measure the periodic activity, we would like to describe these peaks, without our\nmeasures of these peaks being influenced by co-occurring aperiodic activity.\n\n\n"
      ]
    },
    {
      "cell_type": "markdown",
      "metadata": {},
      "source": [
        "Mathematical Overview\n---------------------\n\nThis formulation, of a combination of aperiodic and periodic activity,\ntranslates to conceptualizing the power spectrum as:\n\n\\begin{align}NPS = AP + \\sum_{n=0}^{N} P_n\\end{align}\n\nWhere $NPS$ is a neural power spectrum, $AP$ is the aperiodic component,\nand each $P_n$ describes a peak, for $N$ peaks extracted from the power spectrum,\nwhich makes up the periodic component.\n\nTo enact this model, we need to describe how to measure $AP$ and $P_n$,\nwhich we do next, by describing the specific functions we use to measure these components.\n\n\n"
      ]
    },
    {
      "cell_type": "markdown",
      "metadata": {},
      "source": [
        "Aperiodic Component\n~~~~~~~~~~~~~~~~~~~\n\nTo fit the aperiodic component, we use an exponential function,\nwhich we will refer to as $L$.\nNote that this function is fit on the semi-log power spectrum\n(linear frequencies and $log_{10}$ power values).\n\nThe exponential is of the form:\n\n\\begin{align}L = 10^b * \\frac{1}{(k + F^\\chi)}\\end{align}\n\nOr, equivalently:\n\n\\begin{align}L = b - \\log(k + F^\\chi)\\end{align}\n\nIn this formulation, the parameters $b$, $k$, and $\\chi$\ndefine the aperiodic component, as:\n\n- $b$ is the broadband 'offset'\n- $k$ relates to the 'knee'\n- $\\chi$ is the 'exponent' of the aperiodic fit\n- $F$ is the vector of input frequencies\n\nNote that fitting the knee parameter is optional. If used, the knee parameter defines a\n'bend' in the aperiodic `1/f` like component of the data. If not used, the 'knee'\nparameter is set to zero. Without a 'knee' parameter, this is equivalent to fitting\na linear fit in log-log space to measure the 'slope' of the power spectrum (where the\nexponent = -slope).\n\nWe use this form since though neural data is often discussed in terms of having\n`1/f` activity, across broader frequency ranges, there is typically not a single\n`1/f` characteristic. Using this form allows for modeling bends in the power spectrum\nof the aperiodic component, if and when they occur.\n\nRelating Exponents to Power Spectrum Slope\n^^^^^^^^^^^^^^^^^^^^^^^^^^^^^^^^^^^^^^^^^^\n\nAnother common way to measure 1/f properties in neural power spectra is to measure\nthe slope of the spectrum in log-log spacing, measuring the 1/f as:\n\n..math::\n  NPS = ax + b\n\nWhere:\n\n- $a$ is the power spectrum slope\n- :math: `b` is the offset.\n\nNote that, when fitting without a knee, this can be considered equivalent to the\nexponential fits that we perform, where the slope relates to the exponent value as:\n\n..math::\n   \\chi = -a\n\n\n"
      ]
    },
    {
      "cell_type": "markdown",
      "metadata": {},
      "source": [
        "Periodic Component(s)\n~~~~~~~~~~~~~~~~~~~~~\n\nRegions of power over above the aperiodic component, or 'peaks', are considered to be\nputative oscillations, and form the periodic component(s) of the data. To fit these\nperiodic components, we use Gaussians.\n\nEach Gaussian, referred to as $G_n$, is of the form:\n\n\\begin{align}G_n = a * exp (\\frac{- (F - c)^2}{2 * w^2})\\end{align}\n\nThis describes each peak in terms of parameters `a`, `c` and `w`, where:\n\n- $a$ is the height of the peak, over and above the aperiodic component\n- $c$ is the center frequency of the peak\n- $w$ is the width of the peak\n- $F$ is the vector of input frequencies\n\n\n"
      ]
    },
    {
      "cell_type": "markdown",
      "metadata": {},
      "source": [
        "Conclusion\n----------\n\nThe full power spectrum model is therefore the combination of the aperiodic fit,\n$L$ defined by the exponential fit, and `N` peaks, where each $G_n$\nis fit with a Gaussian.\n\nThe next tutorial, will start to use this model.\nFor more technical details on the model formulation and fitting process, check out the\n`paper <https://www.biorxiv.org/content/early/2018/04/11/299859>`_,\n\n\n"
      ]
    }
  ],
  "metadata": {
    "kernelspec": {
      "display_name": "Python 3",
      "language": "python",
      "name": "python3"
    },
    "language_info": {
      "codemirror_mode": {
        "name": "ipython",
        "version": 3
      },
      "file_extension": ".py",
      "mimetype": "text/x-python",
      "name": "python",
      "nbconvert_exporter": "python",
      "pygments_lexer": "ipython3",
      "version": "3.7.4"
    }
  },
  "nbformat": 4,
  "nbformat_minor": 0
}