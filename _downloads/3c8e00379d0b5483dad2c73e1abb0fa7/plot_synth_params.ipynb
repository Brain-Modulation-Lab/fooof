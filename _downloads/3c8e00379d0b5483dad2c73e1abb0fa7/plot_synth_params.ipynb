{
  "cells": [
    {
      "cell_type": "code",
      "execution_count": null,
      "metadata": {
        "collapsed": false
      },
      "outputs": [],
      "source": [
        "%matplotlib inline"
      ]
    },
    {
      "cell_type": "markdown",
      "metadata": {},
      "source": [
        "\nSynthetic Parameters\n====================\n\nManage parameters for creating synthetic power spectra.\n\n"
      ]
    },
    {
      "cell_type": "code",
      "execution_count": null,
      "metadata": {
        "collapsed": false
      },
      "outputs": [],
      "source": [
        "# Import fooof functions for creating spectra and managing parameters\nfrom fooof.synth.params import param_sampler, param_iter, Stepper\nfrom fooof.synth.gen import gen_power_spectrum, gen_group_power_spectra\n\n# Import some fooof plotting functions\nfrom fooof.plts.spectra import plot_spectrum, plot_spectra"
      ]
    },
    {
      "cell_type": "markdown",
      "metadata": {},
      "source": [
        "SynParams\n~~~~~~~~~\n\nWhen you synthesize multiple power spectra, FOOOF uses `SynParams` objects to\nkeep track of the parameters used for each power spectrum.\n\nSynParams objects are named tuples with the following fields:\n- `aperiodic_params`\n- `gaussian_params`\n- `nlv`\n\n\n"
      ]
    },
    {
      "cell_type": "code",
      "execution_count": null,
      "metadata": {
        "collapsed": false
      },
      "outputs": [],
      "source": [
        "# Set up settings for synthesizing a group of power spectra\nn_spectra = 2\nfreq_range = [3, 40]\nap_params = [[0.5, 1], [1, 1.5]]\ngauss_params = [[10, 0.4, 1], [10, 0.2, 1, 22, 0.1, 3]]\nnlv = 0.02"
      ]
    },
    {
      "cell_type": "code",
      "execution_count": null,
      "metadata": {
        "collapsed": false
      },
      "outputs": [],
      "source": [
        "# Synthesize a group of power spectra\nfs, ps, syn_params = gen_group_power_spectra(n_spectra, freq_range, ap_params, gauss_params, nlv)"
      ]
    },
    {
      "cell_type": "code",
      "execution_count": null,
      "metadata": {
        "collapsed": false
      },
      "outputs": [],
      "source": [
        "# Print out the SynParams objects that track the parameters used to create power spectra\nfor syn_param in syn_params:\n    print(syn_param)"
      ]
    },
    {
      "cell_type": "code",
      "execution_count": null,
      "metadata": {
        "collapsed": false
      },
      "outputs": [],
      "source": [
        "# You can also use a SynParams object to regenerate a particular power spectrum\ncur_params = syn_params[0]\nfs, ps = gen_power_spectrum(freq_range, *cur_params)"
      ]
    },
    {
      "cell_type": "markdown",
      "metadata": {},
      "source": [
        "Managing Parameters\n-------------------\n\nFOOOF provides some helper functions for managing and selecting parameters for\nsimulating groups of power spectra, including :func:`param_sampler`\nwhich can be used to sample parameters from list of options, and :func:`param_iter`\nwhich can be used to iterate across parameters.\n\n\n"
      ]
    },
    {
      "cell_type": "markdown",
      "metadata": {},
      "source": [
        "param_sampler\n~~~~~~~~~~~~~\n\nThe :func:`param_sampler` function takes a list of parameter options and randomly selects from\nthe parameters to create each power spectrum. You can optionally specify the\nprobabilities with which to sample from the parameter options.\n\n\n"
      ]
    },
    {
      "cell_type": "code",
      "execution_count": null,
      "metadata": {
        "collapsed": false
      },
      "outputs": [],
      "source": [
        "# Create a sampler to choose from two options for aperiodic parameters\nap_opts = param_sampler([[1, 1.25], [1, 1]])\n\n# Create sampler to choose from two options for periodic parameters, and specify probabilities\ngauss_opts = param_sampler([[10, 0.5, 1], [[10, 0.5, 1], [20, 0.25, 2]]], [0.75, 0.25])"
      ]
    },
    {
      "cell_type": "code",
      "execution_count": null,
      "metadata": {
        "collapsed": false
      },
      "outputs": [],
      "source": [
        "# Generate some power spectra, using the param samplers\nfs, ps, syn_params = gen_group_power_spectra(10, [3, 40], ap_opts, gauss_opts)"
      ]
    },
    {
      "cell_type": "code",
      "execution_count": null,
      "metadata": {
        "collapsed": false
      },
      "outputs": [],
      "source": [
        "# Plot some of the spectra that were generated\nplot_spectra(fs, ps[0:4, :], log_powers=True)"
      ]
    },
    {
      "cell_type": "markdown",
      "metadata": {},
      "source": [
        "param_iter\n~~~~~~~~~~\n\nThe :func:`param_iter` function can be used to create iterators that can 'step' across\na range of parameter values to be simulated.\n\nThe :class:`Stepper` object needs to be used in conjuction with :func:`param_iter`,\nas it specifies the values to be iterated across.\n\n\n"
      ]
    },
    {
      "cell_type": "code",
      "execution_count": null,
      "metadata": {
        "collapsed": false
      },
      "outputs": [],
      "source": [
        "# Set the aperiodic parameters to be stable\nap_params = [1, 1]\n\n# Use a stepper object and param_iter to step across CF values for an alpha oscillation\ncf_steps = Stepper(8, 12, 1)\ngauss_params = param_iter([cf_steps, 0.4, 1])"
      ]
    },
    {
      "cell_type": "code",
      "execution_count": null,
      "metadata": {
        "collapsed": false
      },
      "outputs": [],
      "source": [
        "# Generate some power spectra, using param iter\nfs, ps, syn_params = gen_group_power_spectra(len(cf_steps), [3, 40], ap_params, gauss_params)"
      ]
    },
    {
      "cell_type": "code",
      "execution_count": null,
      "metadata": {
        "collapsed": false
      },
      "outputs": [],
      "source": [
        "# Plot the generated spectra\nplot_spectra(fs, ps, log_freqs=True, log_powers=True)"
      ]
    }
  ],
  "metadata": {
    "kernelspec": {
      "display_name": "Python 3",
      "language": "python",
      "name": "python3"
    },
    "language_info": {
      "codemirror_mode": {
        "name": "ipython",
        "version": 3
      },
      "file_extension": ".py",
      "mimetype": "text/x-python",
      "name": "python",
      "nbconvert_exporter": "python",
      "pygments_lexer": "ipython3",
      "version": "3.7.1"
    }
  },
  "nbformat": 4,
  "nbformat_minor": 0
}