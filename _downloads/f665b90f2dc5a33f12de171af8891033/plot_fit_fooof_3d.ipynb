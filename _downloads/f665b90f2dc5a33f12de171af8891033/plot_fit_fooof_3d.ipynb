{
  "cells": [
    {
      "cell_type": "code",
      "execution_count": null,
      "metadata": {
        "collapsed": false
      },
      "outputs": [],
      "source": [
        "%matplotlib inline"
      ]
    },
    {
      "cell_type": "markdown",
      "metadata": {},
      "source": [
        "\nFit FOOOFGroup 3D\n=================\n\nRun FOOOF across 3D matrices of power spectra.\n\n"
      ]
    },
    {
      "cell_type": "code",
      "execution_count": null,
      "metadata": {
        "collapsed": false
      },
      "outputs": [],
      "source": [
        "import numpy as np\n\n# FOOOF imports\nfrom fooof import FOOOFGroup\nfrom fooof.funcs import fit_fooof_group_3d, combine_fooofs\nfrom fooof.synth.gen import gen_group_power_spectra\nfrom fooof.synth.params import param_sampler"
      ]
    },
    {
      "cell_type": "code",
      "execution_count": null,
      "metadata": {
        "collapsed": false
      },
      "outputs": [],
      "source": [
        "# Settings for creating synthetic data\nn_spectra = 10\nfreq_range = [3, 40]\nap_opts = param_sampler([[0, 1.0], [0, 1.5], [0, 2]])\ngauss_opts = param_sampler([[], [10, 1, 1], [10, 1, 1, 20, 2, 1]])"
      ]
    },
    {
      "cell_type": "code",
      "execution_count": null,
      "metadata": {
        "collapsed": false
      },
      "outputs": [],
      "source": [
        "# Generate some synthetic power spectra, and organize into a 3D matrix\nspectra = []\nfor ind in range(3):\n    fs, ps, _ = gen_group_power_spectra(n_spectra, freq_range, ap_opts, gauss_opts)\n    spectra.append(ps)\nspectra = np.array(spectra)"
      ]
    },
    {
      "cell_type": "code",
      "execution_count": null,
      "metadata": {
        "collapsed": false
      },
      "outputs": [],
      "source": [
        "# Check the shape of the spectra\n#   This kind of 3D organization can be thought to represent [n_conditions, n_channels, n_freqs]\nprint(spectra.shape)"
      ]
    },
    {
      "cell_type": "markdown",
      "metadata": {},
      "source": [
        "fit_fooof_group_3d\n------------------\n\nThe :func:`fit_fooof_group_3d` is a function that takes in a FOOOFGroup object,\nwhich has been initialized with the desired settings, as well as a frequency\nvector and a 3D matrix of power spectra. The FOOOFGroup object is used to fit\nFOOOF models across the power spectra. A list of FOOOFGroup objects is returned.\n\n\n"
      ]
    },
    {
      "cell_type": "code",
      "execution_count": null,
      "metadata": {
        "collapsed": false
      },
      "outputs": [],
      "source": [
        "# Initialize a FOOOF group object, with desired settings\nfg = FOOOFGroup(peak_width_limits=[1, 6], peak_threshold=0.5)"
      ]
    },
    {
      "cell_type": "code",
      "execution_count": null,
      "metadata": {
        "collapsed": false
      },
      "outputs": [],
      "source": [
        "# Fit the 3D matrix of power spectra\nfgs = fit_fooof_group_3d(fg, fs, spectra)"
      ]
    },
    {
      "cell_type": "code",
      "execution_count": null,
      "metadata": {
        "collapsed": false
      },
      "outputs": [],
      "source": [
        "# This returns a list of FOOOFGRoup objects\nprint(fgs)"
      ]
    },
    {
      "cell_type": "code",
      "execution_count": null,
      "metadata": {
        "collapsed": false
      },
      "outputs": [],
      "source": [
        "# Compare the aperiodic exponent results across conditions\nfor ind, fg in enumerate(fgs):\n    print(\"Aperiodic exponent for condition {} is {:1.4f}\".format(\n        ind, np.mean(fg.get_all_data('aperiodic_params', 'exponent'))))"
      ]
    },
    {
      "cell_type": "markdown",
      "metadata": {},
      "source": [
        "combine_fooofs\n--------------\n\nDepending what the organization of the data is, you might also want to collapse\nFOOOF models dimensions that have been fit.\n\n\nTo do so, you can use the :func:`combine_fooofs` function, which takes\na list of FOOOF or FOOOFGroup objects, and combines them together into\na single FOOOFGroup object (assuming the settings and data definitions\nare consistent to do so).\n\n"
      ]
    },
    {
      "cell_type": "code",
      "execution_count": null,
      "metadata": {
        "collapsed": false
      },
      "outputs": [],
      "source": [
        "# You can also combine a list of FOOOF objects into a single FOOOF object\nall_fg = combine_fooofs(fgs)\n\n# Explore the results from across all FOOOF fits\nall_fg.print_results()\nall_fg.plot()"
      ]
    }
  ],
  "metadata": {
    "kernelspec": {
      "display_name": "Python 3",
      "language": "python",
      "name": "python3"
    },
    "language_info": {
      "codemirror_mode": {
        "name": "ipython",
        "version": 3
      },
      "file_extension": ".py",
      "mimetype": "text/x-python",
      "name": "python",
      "nbconvert_exporter": "python",
      "pygments_lexer": "ipython3",
      "version": "3.7.1"
    }
  },
  "nbformat": 4,
  "nbformat_minor": 0
}