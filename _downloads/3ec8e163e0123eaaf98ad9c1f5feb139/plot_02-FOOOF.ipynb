{
  "cells": [
    {
      "cell_type": "code",
      "execution_count": null,
      "metadata": {
        "collapsed": false
      },
      "outputs": [],
      "source": [
        "%matplotlib inline"
      ]
    },
    {
      "cell_type": "markdown",
      "metadata": {},
      "source": [
        "\n02: Fitting FOOOF Models\n========================\n\nIntroduction to the module, beginning with the FOOOF object.\n"
      ]
    },
    {
      "cell_type": "code",
      "execution_count": null,
      "metadata": {
        "collapsed": false
      },
      "outputs": [],
      "source": [
        "# Import numpy for loading data\nimport numpy as np\n\n# Import the FOOOF object\nfrom fooof import FOOOF"
      ]
    },
    {
      "cell_type": "code",
      "execution_count": null,
      "metadata": {
        "collapsed": false
      },
      "outputs": [],
      "source": [
        "# Load example data to use for this tutorial (a single example power spectrum)\nfreqs = np.load('data/freqs.npy')\nspectrum = np.load('data/spectrum.npy')"
      ]
    },
    {
      "cell_type": "markdown",
      "metadata": {},
      "source": [
        "FOOOF Object\n------------\n\nAt the core of the module, which is object oriented, is the FOOOF object, which holds relevant\ndata and settings as attributes, and procedures to run the FOOOF algorithm as methods.\n\nThe organization is similar to sklearn:\n\n- A model object is initialized, with relevant settings\n- The model is used to fit the data\n- Results can be extracted from the object\n\n\n"
      ]
    },
    {
      "cell_type": "markdown",
      "metadata": {},
      "source": [
        "Calculating Power Spectra\n~~~~~~~~~~~~~~~~~~~~~~~~~\n\nThe FOOOF model operates on power spectra. FOOOF itself does not compute power spectra,\nand so computing power spectra needs to be done prior to using the FOOOF module.\n\nThe model is broadly agnostic to exactly how power spectra are computed. Common\nmethods, such as using Welch's method to compute the spectrogram\n\nIf you need a module in Python that has functionality for computing power spectra, try\n`NeuroDSP <https://neurodsp-tools.github.io/neurodsp/>`_\n\nNote that FOOOF objects require frequency and power values passed in as inputs to\nbe in linear spacing. Passing in non-linear spaced data (such logged values) may\nproduce erroneous results.\n\n\n"
      ]
    },
    {
      "cell_type": "markdown",
      "metadata": {},
      "source": [
        "FOOOF Example\n-------------\n\nThe following example demonstrates fitting a FOOOF model on a single power spectrum.\n\n\n"
      ]
    },
    {
      "cell_type": "code",
      "execution_count": null,
      "metadata": {
        "collapsed": false
      },
      "outputs": [],
      "source": [
        "# Initialize FOOOF model\nfm = FOOOF()\n\n# Set the frequency range upon which to fit FOOOF\nfreq_range = [2, 40]\n\n# Run FOOOF: fit the model, print the resulting parameters, and plot the reconstruction\nfm.report(freqs, spectrum, freq_range)"
      ]
    },
    {
      "cell_type": "markdown",
      "metadata": {},
      "source": [
        "FOOOF Report\n~~~~~~~~~~~~\n\nThe above method 'report', is a convenience method that calls a series of FOOOF methods:\n\n- :func:`fit`:  fits the FOOOF model\n- :func:`print_results`: prints out the results\n- :func:`plot`: plots to data and model fit\n\nEach of these methods can also be called individually.\n\n\n"
      ]
    },
    {
      "cell_type": "code",
      "execution_count": null,
      "metadata": {
        "collapsed": false
      },
      "outputs": [],
      "source": [
        "# Alternatively, just fit the model with FOOOF.fit() (without printing anything)\nfm.fit(freqs, spectrum, freq_range)\n\n# After fitting, plotting and parameter fitting can be called independently:\n# fm.print_results()\n# fm.plot()"
      ]
    },
    {
      "cell_type": "markdown",
      "metadata": {},
      "source": [
        "Model Parameters\n~~~~~~~~~~~~~~~~\n\nWhen the FOOOF model is calculated, the model fit parameters are stored as object\nattributes that can be accessed after fitting.\n\nFollowing the sklearn convention, attributes that are fit as a result of\nthe model have a trailing underscore, for example:\n\n- aperiodic\\_params_\n- peak\\_params_\n- error\\_\n- r2\\_\n- n\\_peaks\\_\n\n\n"
      ]
    },
    {
      "cell_type": "markdown",
      "metadata": {},
      "source": [
        "Access model fit parameters from FOOOF object, after fitting:\n\n\n"
      ]
    },
    {
      "cell_type": "code",
      "execution_count": null,
      "metadata": {
        "collapsed": false
      },
      "outputs": [],
      "source": [
        "# Aperiodic parameters\nprint('Aperiodic parameters: \\n', fm.aperiodic_params_, '\\n')\n\n# Peak parameters\nprint('Peak parameters: \\n', fm.peak_params_, '\\n')\n\n# Goodness of fit measures\nprint('Goodness of fit:')\nprint(' Error - ', fm.error_)\nprint(' R^2   - ', fm.r_squared_, '\\n')\n\n# Check how many peaks were fit\nprint('Number of fit peaks: \\n', fm.n_peaks_)"
      ]
    },
    {
      "cell_type": "markdown",
      "metadata": {},
      "source": [
        "Selecting Parameters\n~~~~~~~~~~~~~~~~~~~~\n\nYou can also select parameters using the `get_params` method, which can be used to\nspecify which parameters you want to extract.\n\n\n"
      ]
    },
    {
      "cell_type": "code",
      "execution_count": null,
      "metadata": {
        "collapsed": false
      },
      "outputs": [],
      "source": [
        "# Extract a FOOOF parameter with `get_params`\nerr = fm.get_params('error')\n\n# Extract parameters, indicating sub-selections of parameter\nexp = fm.get_params('aperiodic_params', 'exponent')\ncfs = fm.get_params('peak_params', 'CF')\n\n# Print out a custom parameter report\ntemplate = (\"With an error level of {error:1.2f}, FOOOF fit an exponent \"\n            \"of {exponent:1.2f} and peaks of {cfs:s} Hz.\")\nprint(template.format(error=err, exponent=exp,\n                      cfs=' & '.join(map(str, [round(cf, 2) for cf in cfs]))))"
      ]
    },
    {
      "cell_type": "markdown",
      "metadata": {},
      "source": [
        "For a full description of how you can access data with `get_params`, check\nthe method's documentation.\n\nAs a reminder, you can access the documentation for a function using '?' in a\nJupyter notebook (ex: `fm.get_params?`), or more generally with the `help` function\nin general Python (ex: `help(get_params)`).\n\n\n"
      ]
    },
    {
      "cell_type": "markdown",
      "metadata": {},
      "source": [
        "Notes on Interpreting Peak Parameters\n-------------------------------------\n\nPeak parameters are labeled as:\n\n- CF: center frequency of the extracted peak\n- PW: power of the peak, over and above the aperiodic component\n- BW: bandwidth of the extracted peak\n\nNote that the peak parameters that are returned are not exactly the same as the\nparameters of the Gaussians used internally to fit the peaks.\n\nSpecifically:\n\n- CF is the exact same as mean parameter of the Gaussian\n- PW is the height of the model fit above the aperiodic component [1],\n  which is not necessarily the same as the Gaussian height\n- BW is 2 * the standard deviation of the Gaussian [2]\n\n[1] Since the Gaussians are fit together, if any Gaussians overlap,\nthan the actual height of the fit at a given point can only be assessed\nwhen considering all Gaussians. To be better able to interpret heights\nfor single peak fits, we re-define the peak height as above, and label it\nas 'power', as the units of the input data are expected to be units of power.\n\n[2] Gaussian standard deviation is '1 sided', where as the returned BW is '2 sided'.\n\n\n"
      ]
    },
    {
      "cell_type": "markdown",
      "metadata": {},
      "source": [
        "The underlying gaussian parameters are also available from the FOOOF object,\nin the `gaussian_params_` attribute.\n\n\n"
      ]
    },
    {
      "cell_type": "code",
      "execution_count": null,
      "metadata": {
        "collapsed": false
      },
      "outputs": [],
      "source": [
        "# Compare the 'peak\\_params_' to the underlying gaussian parameters\nprint('  Peak Parameters \\t Gaussian Parameters')\nfor peak, gauss in zip(fm.peak_params_, fm.gaussian_params_):\n    print('{:5.2f} {:5.2f} {:5.2f} \\t {:5.2f} {:5.2f} {:5.2f}'.format(*peak, *gauss))"
      ]
    },
    {
      "cell_type": "markdown",
      "metadata": {},
      "source": [
        "FOOOFResults\n~~~~~~~~~~~~\n\nFOOOF also has a convenience method to return all model fit results: :func:`get_results`.\n\nThis method returns all the model fit parameters, including the underlying Gaussian parameters,\ncollected together into a FOOOFResults object.\n\nThe FOOOFResults object, which in Python terms is a named tuple, is a standard data\nobject used with FOOOF to organize and collect parameter data.\n\n\n"
      ]
    },
    {
      "cell_type": "code",
      "execution_count": null,
      "metadata": {
        "collapsed": false
      },
      "outputs": [],
      "source": [
        "# Grab each model fit result with `get_results` to gather all results together\n#   Note that this returns a FOOOFResult object\nfres = fm.get_results()\n\n# You can also unpack all fit parameters when using `get_results`\nap_params, peak_params, r_squared, fit_error, gauss_params = fm.get_results()"
      ]
    },
    {
      "cell_type": "code",
      "execution_count": null,
      "metadata": {
        "collapsed": false
      },
      "outputs": [],
      "source": [
        "# Print out the FOOOFResults\nprint(fres, '\\n')\n\n# From FOOOFResults, you can access the different results\nprint('Aperiodic Parameters: \\n', fres.aperiodic_params)\n\n# Check the r^2 and error of the model fit\nprint('R-squared: \\n {:5.4f}'.format(fm.r_squared_))\nprint('Fit error: \\n {:5.4f}'.format(fm.error_))"
      ]
    },
    {
      "cell_type": "markdown",
      "metadata": {},
      "source": [
        "Conclusion\n----------\n\nIn this tutorial, we have explored the basics of the FOOOF object,\nfitting models, and extracting parameters.\n\nBefore we move on to controlling the fit procedure, and interpreting the results,\nin the next tutorial, we will first explore how this model is actually fit.\n\n\n"
      ]
    }
  ],
  "metadata": {
    "kernelspec": {
      "display_name": "Python 3",
      "language": "python",
      "name": "python3"
    },
    "language_info": {
      "codemirror_mode": {
        "name": "ipython",
        "version": 3
      },
      "file_extension": ".py",
      "mimetype": "text/x-python",
      "name": "python",
      "nbconvert_exporter": "python",
      "pygments_lexer": "ipython3",
      "version": "3.7.4"
    }
  },
  "nbformat": 4,
  "nbformat_minor": 0
}