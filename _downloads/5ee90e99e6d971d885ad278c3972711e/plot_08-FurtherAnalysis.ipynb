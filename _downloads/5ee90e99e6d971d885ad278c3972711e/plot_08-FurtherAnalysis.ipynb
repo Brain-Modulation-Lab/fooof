{
  "cells": [
    {
      "cell_type": "code",
      "execution_count": null,
      "metadata": {
        "collapsed": false
      },
      "outputs": [],
      "source": [
        "%matplotlib inline"
      ]
    },
    {
      "cell_type": "markdown",
      "metadata": {},
      "source": [
        "\n08: Further Analysis\n====================\n\nAnalyze results from fitting FOOOF models.\n"
      ]
    },
    {
      "cell_type": "markdown",
      "metadata": {},
      "source": [
        "Exploring FOOOF Analyses\n------------------------\n\nSo far we have explored how to use FOOOF a a method to extract features\nof interest from your data - in particular measuring aperiodic and periodic activity.\n\nThese features can then be examined within or between groups of interest,\nand/or fed into further analysis to examine if, for example, these features\npredict other behavioural or physiological features of interest.\nLargely, it is up to you what to do after running FOOOF, as it depends on your\nquestions of interest.\n\nHere, we briefly introduce some analysis utilities that are packaged with FOOOF,\nand explore some simple analyses that can be done with FOOOF outputs.\n\nTo start, we will load and fit some example data, as well as simulate a group of\npower spectra to fit with a FOOOFGroup object.\n\n\n"
      ]
    },
    {
      "cell_type": "code",
      "execution_count": null,
      "metadata": {
        "collapsed": false
      },
      "outputs": [],
      "source": [
        "# General imports\nimport numpy as np\n\n# Import the FOOOF and FOOOFGroup objects\nfrom fooof import FOOOF, FOOOFGroup\n\n# Import the Bands object, which is used to define oscillation bands\nfrom fooof.bands import Bands\n\n# Import FOOOF simulation code and utilities\nfrom fooof.sim.params import param_sampler\nfrom fooof.sim.gen import gen_group_power_spectra\n\n# Import some of the analysis functions that come with FOOOF\nfrom fooof.analysis import get_band_peak, get_band_peak_fm, get_band_peak_fg"
      ]
    },
    {
      "cell_type": "markdown",
      "metadata": {},
      "source": [
        "Load and Fit Example Data\n~~~~~~~~~~~~~~~~~~~~~~~~~\n\n\n"
      ]
    },
    {
      "cell_type": "code",
      "execution_count": null,
      "metadata": {
        "collapsed": false
      },
      "outputs": [],
      "source": [
        "# Load some example data\nfreqs = np.load('data/freqs.npy')\nspectrum = np.load('data/spectrum.npy')"
      ]
    },
    {
      "cell_type": "code",
      "execution_count": null,
      "metadata": {
        "collapsed": false
      },
      "outputs": [],
      "source": [
        "# Fit a FOOOF model\nfm = FOOOF(peak_width_limits=[2, 8])\nfm.fit(freqs, spectrum, [3, 30])"
      ]
    },
    {
      "cell_type": "markdown",
      "metadata": {},
      "source": [
        "Simulate and Fit Group Data\n~~~~~~~~~~~~~~~~~~~~~~~~~~~\n\n\n"
      ]
    },
    {
      "cell_type": "code",
      "execution_count": null,
      "metadata": {
        "collapsed": false
      },
      "outputs": [],
      "source": [
        "# Generate some simulated power spectra and fit a FOOOFGroup to use\nfreqs, spectra = gen_group_power_spectra(n_spectra=10,\n                                         freq_range=[3, 40],\n                                         aperiodic_params=param_sampler([[20, 2], [35, 1.5]]),\n                                         periodic_params=param_sampler([[], [10, 0.5, 2]]))"
      ]
    },
    {
      "cell_type": "code",
      "execution_count": null,
      "metadata": {
        "collapsed": false
      },
      "outputs": [],
      "source": [
        "# Fit FOOOF models across the group of simulated power spectra\nfg = FOOOFGroup(peak_width_limits=[1, 8], min_peak_height=0.05, max_n_peaks=6, verbose=False)\nfg.fit(freqs, spectra)"
      ]
    },
    {
      "cell_type": "markdown",
      "metadata": {},
      "source": [
        "FOOOF Analysis Utilities\n------------------------\n\nFOOOF is packaged with some analysis functions. Note that these utilities are\ngenerally relatively simple utilities that assist in accessing and investigating\nthe model fit parameters. Analyzing FOOOF results is typically idiosyncratic to the\ngoals of the project, and so we consider that this will typically require custom code,\nand seek here to offer the most general utilities, and not support all possible applications.\nHere we demonstrate some of these utility functions covering very general use cases.\n\n\n"
      ]
    },
    {
      "cell_type": "markdown",
      "metadata": {},
      "source": [
        "Analyzing Periodic Components\n-----------------------------\n\nWe will start by analyzing the periodic components.\nIn particular, these utilities mostly serve to help organize and extract periodic\ncomponents, for example extracing peak that fall with oscillation band defintions.\n\nThis also includes using the `Bands` object, that is provided to store band defintions.\n\n\n"
      ]
    },
    {
      "cell_type": "code",
      "execution_count": null,
      "metadata": {
        "collapsed": false
      },
      "outputs": [],
      "source": [
        "# Define frequency bands of interest\nbands = Bands({'theta' : [4, 8],\n               'alpha' : [8, 12],\n               'beta' : [15, 30]})"
      ]
    },
    {
      "cell_type": "markdown",
      "metadata": {},
      "source": [
        "get_band_peak\n~~~~~~~~~~~~~~~~\n\nThe :func:`get_band_peak` function is used to select peaks within specific frequency ranges.\n\nYou can optionally specify whether to return all oscillations within that band,\nor a singular result, which returns the highest power peak (if there are multiple),\nand also apply a minimum threshold to extract peaks.\n\n\n"
      ]
    },
    {
      "cell_type": "markdown",
      "metadata": {},
      "source": [
        "get_band_peak_fm\n~~~~~~~~~~~~~~~~\n\nYou can use the :func:`get_band_peak` function directly if you have already\nextracted the peak parameters from a FOOOF object. You can also use the\n:func:`get_band_peak_fm` function and pass in a FOOOF object.\n\n\n"
      ]
    },
    {
      "cell_type": "code",
      "execution_count": null,
      "metadata": {
        "collapsed": false
      },
      "outputs": [],
      "source": [
        "# Extract any alpha band oscillations from the FOOOF model\nprint(get_band_peak_fm(fm, bands.alpha))"
      ]
    },
    {
      "cell_type": "markdown",
      "metadata": {},
      "source": [
        "get_band_peak_fg\n~~~~~~~~~~~~~~~~\n\nSimilary, the :func:`get_band_peak_group` function can be used to select peaks within\nspecific frequency ranges, from FOOOFGroup object.\n\n\n"
      ]
    },
    {
      "cell_type": "code",
      "execution_count": null,
      "metadata": {
        "collapsed": false
      },
      "outputs": [],
      "source": [
        "# Get all alpha oscillations from a FOOOFGroup object\nalphas = get_band_peak_fg(fg, bands.alpha)"
      ]
    },
    {
      "cell_type": "code",
      "execution_count": null,
      "metadata": {
        "collapsed": false
      },
      "outputs": [],
      "source": [
        "# Check out some of the alpha data\nprint(alphas[0:5, :])"
      ]
    },
    {
      "cell_type": "markdown",
      "metadata": {},
      "source": [
        "Note that when selecting peaks from a group of model fits, we retain\ninformation regarding which oscillation came from with model fit.\n\nTo do so, it's output is organized such that each row corresponds to a specific\nmodel fit, such that the matrix returned is size [n_fits, 3].\n\nFor this to work, at most 1 peak is extracted for each model fit within the specified band.\n\nIf more than 1 peak are found within the band, the peak with the highest power is extracted.\nIf no peaks are found, that row is filled with 'nan'.\n\n\n"
      ]
    },
    {
      "cell_type": "code",
      "execution_count": null,
      "metadata": {
        "collapsed": false
      },
      "outputs": [],
      "source": [
        "# Check descriptive statistics of oscillation data\nprint('Alpha CF : {:1.2f}'.format(np.nanmean(alphas[:, 0])))\nprint('Alpha PW : {:1.2f}'.format(np.nanmean(alphas[:, 1])))\nprint('Alpha BW : {:1.2f}'.format(np.nanmean(alphas[:, 2])))"
      ]
    },
    {
      "cell_type": "markdown",
      "metadata": {},
      "source": [
        "A Note on Frequency Ranges\n--------------------------\n\nA benefit of using FOOOF to model power spectra is that you do not have to define\na priori frequency ranges from which to extract oscillations.\n\nNevertheless, it may still be useful to group extracted peaks into 'bands' of interest,\nwhich is why the aforementioned functions are offered.\n\nSince this frequency-range selection can be done after model fitting, we do recommend\nchecking the model results, for example by checking a histogram of the center frequencies\nextracted across a group, in order to ensure the frequency ranges you choose reflect\nthe characteristics of the data under study.\n\n\n"
      ]
    },
    {
      "cell_type": "markdown",
      "metadata": {},
      "source": [
        "Analyzing the Aperiodic Component\n---------------------------------\n\nTypically for analyzing the aperiodic component of the data, aperiodic parameters\njust need to be extracted from FOOOF objects and fit into analyses of interest.\n\n\n"
      ]
    },
    {
      "cell_type": "code",
      "execution_count": null,
      "metadata": {
        "collapsed": false
      },
      "outputs": [],
      "source": [
        "# Plot from the FOOOFGroup, to visualize the parameters\nfg.plot()"
      ]
    },
    {
      "cell_type": "code",
      "execution_count": null,
      "metadata": {
        "collapsed": false
      },
      "outputs": [],
      "source": [
        "# Extract aperiodic exponent data from group results\nexps = fg.get_params('aperiodic_params', 'exponent')\n\n# Check out the aperiodic exponent results\nprint(exps)"
      ]
    },
    {
      "cell_type": "markdown",
      "metadata": {},
      "source": [
        "Example FOOOF Analyses\n----------------------\n\nOnce you have extracted the parameters you can analyze them by, for example:\n\n- Characterizing oscillations & aperiodic properties,\n  and analyzing spatial topographies, across demographics, modalities, and tasks\n- Comparing oscillations within and between subjects across different tasks of interest\n- Predicting disease state based on FOOOF derived oscillation & aperiodic features\n- Using FOOOF on a trial by trial manner to decode task properties, and behavioral states\n\nSo far we have only introduced the basic utilities to help with\nselecting and examing FOOOF parameters.\n\nTo further explore some of these specific analyses, and explore other\nutilities that may be useful, check out the\n`examples <https://fooof-tools.github.io/fooof/auto_examples/index.html>`_\npage.\n\n\n"
      ]
    },
    {
      "cell_type": "markdown",
      "metadata": {},
      "source": [
        "Conclusion\n----------\n\nThis is the end of the main FOOOF tutorial materials!\n\nIf you are having any troubles, please submit an issue on Github\n`here <https://github.com/fooof-tools/fooof>`_,\nand/or get in contact with us at voytekresearch@gmail.com.\n\n\n"
      ]
    }
  ],
  "metadata": {
    "kernelspec": {
      "display_name": "Python 3",
      "language": "python",
      "name": "python3"
    },
    "language_info": {
      "codemirror_mode": {
        "name": "ipython",
        "version": 3
      },
      "file_extension": ".py",
      "mimetype": "text/x-python",
      "name": "python",
      "nbconvert_exporter": "python",
      "pygments_lexer": "ipython3",
      "version": "3.7.4"
    }
  },
  "nbformat": 4,
  "nbformat_minor": 0
}