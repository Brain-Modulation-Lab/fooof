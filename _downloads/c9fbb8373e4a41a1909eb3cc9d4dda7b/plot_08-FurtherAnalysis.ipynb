{
  "cells": [
    {
      "cell_type": "code",
      "execution_count": null,
      "metadata": {
        "collapsed": false
      },
      "outputs": [],
      "source": [
        "%matplotlib inline"
      ]
    },
    {
      "cell_type": "markdown",
      "metadata": {},
      "source": [
        "\n08: Further Analysis\n====================\n\nAnalyze results from fitting FOOOF models.\n\n"
      ]
    },
    {
      "cell_type": "markdown",
      "metadata": {},
      "source": [
        "Exploring FOOOF Analyses\n------------------------\n\nFOOOF is a method to extract features of interest from your data.\n\nThese features can then be examined across or between groups of interest,\nor perhaps fed into further analysis.\n\nLargely, it is up to you what to do after running FOOOF,\nand depends on your questions of interest.\n\nHere, we briefly introduce some analysis utilities that are packaged with FOOOF,\nand explore some simple analyses that can be done with FOOOF outputs.\n\n\n"
      ]
    },
    {
      "cell_type": "code",
      "execution_count": null,
      "metadata": {
        "collapsed": false
      },
      "outputs": [],
      "source": [
        "# General imports\nimport numpy as np\n\n# Import FOOOF objects & synth utilities\nfrom fooof import FOOOF, FOOOFGroup\nfrom fooof.synth.params import param_sampler\nfrom fooof.synth.gen import gen_group_power_spectra\n\n# FOOOF comes with some basic analysis function to work with FOOOF outputs\nfrom fooof.analysis import get_band_peak, get_band_peak_group"
      ]
    },
    {
      "cell_type": "code",
      "execution_count": null,
      "metadata": {
        "collapsed": false
      },
      "outputs": [],
      "source": [
        "# Load some data\nfreqs = np.load('dat/freqs.npy')\nspectrum = np.load('dat/spectrum.npy')"
      ]
    },
    {
      "cell_type": "code",
      "execution_count": null,
      "metadata": {
        "collapsed": false
      },
      "outputs": [],
      "source": [
        "# Fit a FOOOF to explore\nfm = FOOOF(peak_width_limits=[2, 8])\nfm.fit(freqs, spectrum, [3, 30])"
      ]
    },
    {
      "cell_type": "markdown",
      "metadata": {},
      "source": [
        "FOOOF Analysis Utilities\n------------------------\n\nFOOOF is packaged with minimal analysis utility functions.\n\nThe plan is for the FOOOF module to stay this way, as supporting further analysis of\nFOOOF-derived results is largely outside the scope of the current module.\n\nHere we only directly include and demonstrate utility functions covering very general use cases.\n\nIn particular, we include some utilities that are useful for parsing peak results,\nand extracting peaks from frequency ranges of interest.\n\n"
      ]
    },
    {
      "cell_type": "markdown",
      "metadata": {},
      "source": [
        "Analyzing Band-Specific Oscillations\n------------------------------------\n\n\n"
      ]
    },
    {
      "cell_type": "code",
      "execution_count": null,
      "metadata": {
        "collapsed": false
      },
      "outputs": [],
      "source": [
        "# Set up indexes for accessing data, for convenience\ncf_ind, amp_ind, bw_ind = 0, 1, 2\n\n# Define frequency bands of interest\ntheta_band = [4, 8]\nalpha_band = [8, 12]\nbeta_band = [15, 30]"
      ]
    },
    {
      "cell_type": "markdown",
      "metadata": {},
      "source": [
        "get_band_peak\n~~~~~~~~~~~~~\n\nThe :func:`get_band_peak` function can be used to select peaks within specific frequency ranges,\nand can be used on individual FOOOF models.\n\n\n"
      ]
    },
    {
      "cell_type": "code",
      "execution_count": null,
      "metadata": {
        "collapsed": false
      },
      "outputs": [],
      "source": [
        "# Extract any alpha band oscillations from the FOOOF model\nprint(get_band_peak(fm.peak_params_, alpha_band))"
      ]
    },
    {
      "cell_type": "markdown",
      "metadata": {},
      "source": [
        "You can optionally specify whether to return all oscillations within that band,\nor a singular result, which returns the highest power peak (if there are multiple).\n\n\n"
      ]
    },
    {
      "cell_type": "markdown",
      "metadata": {},
      "source": [
        "get_band_peak_group\n~~~~~~~~~~~~~~~~~~~\n\nThe :func:`get_band_peak_group` function can be used to select peaks within specific\nfrequency ranges, from across a group of FOOOF fits.\n\n\n"
      ]
    },
    {
      "cell_type": "code",
      "execution_count": null,
      "metadata": {
        "collapsed": false
      },
      "outputs": [],
      "source": [
        "# Generate some synthetic power spectra and fit a FOOOFGroup to use\nfreqs, spectra, _ = gen_group_power_spectra(n_spectra=10,\n                                            freq_range=[3, 40],\n                                            aperiodic_params=param_sampler([[20, 2], [35, 1.5]]),\n                                            gauss_params=param_sampler([[], [10, 0.5, 2]]))"
      ]
    },
    {
      "cell_type": "code",
      "execution_count": null,
      "metadata": {
        "collapsed": false
      },
      "outputs": [],
      "source": [
        "# Fit FOOOF models across the group of synthesized power spectra\nfg = FOOOFGroup(peak_width_limits=[1, 8], min_peak_amplitude=0.05, max_n_peaks=6, verbose=False)\nfg.fit(freqs, spectra)"
      ]
    },
    {
      "cell_type": "code",
      "execution_count": null,
      "metadata": {
        "collapsed": false
      },
      "outputs": [],
      "source": [
        "# Get all alpha oscillations from a FOOOFGroup object\nalphas = get_band_peak_group(fg.get_all_data('peak_params'), alpha_band, len(fg))"
      ]
    },
    {
      "cell_type": "code",
      "execution_count": null,
      "metadata": {
        "collapsed": false
      },
      "outputs": [],
      "source": [
        "# Check out some of the alpha data\nprint(alphas[0:5, :])"
      ]
    },
    {
      "cell_type": "markdown",
      "metadata": {},
      "source": [
        "Note that the design of :func:`get_band_peak_group` is such that it will retain\ninformation regarding which oscillation came from with model fit.\n\nTo do so, it's output is organized such that each row corresponds to a specific\nmodel fit, such that the matrix returned is size [n_fits, 3].\n\nFor this to work, at most 1 peak is extracted for each model fit within the specified band.\n\nIf more than 1 peak are found within the band, the peak with the highest power is extracted.\nIf no peaks are found, that row is filled with 'nan'.\n\n\n"
      ]
    },
    {
      "cell_type": "code",
      "execution_count": null,
      "metadata": {
        "collapsed": false
      },
      "outputs": [],
      "source": [
        "# Check descriptive statistics of oscillation data\nprint('Alpha CF : ', np.nanmean(alphas[:, cf_ind]))\nprint('Alpha Amp: ', np.nanmean(alphas[:, amp_ind]))\nprint('Alpha BW : ', np.nanmean(alphas[:, bw_ind]))"
      ]
    },
    {
      "cell_type": "markdown",
      "metadata": {},
      "source": [
        "A Note on Frequency Ranges\n--------------------------\n\nA benefit of using FOOOF to model power spectra is that you do not have to define\na priori frequency ranges from which to extract oscillations.\n\nNevertheless, it may still be useful to group extracted peaks into 'bands' of interest,\nwhich is why the aforementioned functions are offered.\n\nSince this frequency-range selection can be done after model fitting, we do recommend\nchecking the model results, for example by checking a histogram of the center frequencies\nextracted across a group, in order to ensure the frequency ranges you choose reflect\nthe characteristics of the data under studty.\n\n\n"
      ]
    },
    {
      "cell_type": "markdown",
      "metadata": {},
      "source": [
        "Analyzing the Aperiodic Component\n---------------------------------\n\n"
      ]
    },
    {
      "cell_type": "code",
      "execution_count": null,
      "metadata": {
        "collapsed": false
      },
      "outputs": [],
      "source": [
        "# Extract aperiodic exponent data from group results\nexps = fg.get_all_data('aperiodic_params', 'exponent')\n\n# Check out the aperiodic exponent results\nprint(exps)"
      ]
    },
    {
      "cell_type": "markdown",
      "metadata": {},
      "source": [
        "Comparing Across PSDs\n---------------------\n\nBoth of the examples above preserve information about which PSD particular features\ncome from. If the PSDs come from across electrodes, channels or source reconstructed\nvertices, for example, extracting data in this way can be used to examine topographical\nrelationships within and between these features.\n\nIf your data comes from M/EEG, `MNE <https://github.com/mne-tools/mne-python>`_ has\nvisualization tools that you can use to, with a channel file and a vector of FOOOF\noutput data, visualize FOOOF results across the scalp and/or cortex.\n\n\n"
      ]
    },
    {
      "cell_type": "markdown",
      "metadata": {},
      "source": [
        "Example FOOOF-related analyses\n------------------------------\n\n- Characterizing oscillations & aperiodic properties,\n  and analyzing spatial topographies, across demographics, modalities, and tasks\n- Comparing oscillations within and between subjects across different tasks of interest\n- Predicting disease state based on FOOOF derived oscillation & aperiodic features\n- Using FOOOF on a trial by trial manner to decode task properties, and behavioural states\n\n\n"
      ]
    },
    {
      "cell_type": "markdown",
      "metadata": {},
      "source": [
        "This is the end of the FOOOF tutorial materials!\n\nIf you are having any troubles, please submit an issue on Github `here\n<https://github.com/fooof-tools/fooof>`_, and/or get in contact with\nus at voytekresearch@gmail.com.\n\n\n"
      ]
    }
  ],
  "metadata": {
    "kernelspec": {
      "display_name": "Python 3",
      "language": "python",
      "name": "python3"
    },
    "language_info": {
      "codemirror_mode": {
        "name": "ipython",
        "version": 3
      },
      "file_extension": ".py",
      "mimetype": "text/x-python",
      "name": "python",
      "nbconvert_exporter": "python",
      "pygments_lexer": "ipython3",
      "version": "3.7.1"
    }
  },
  "nbformat": 4,
  "nbformat_minor": 0
}