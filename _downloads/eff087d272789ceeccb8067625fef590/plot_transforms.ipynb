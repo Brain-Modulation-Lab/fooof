{
  "cells": [
    {
      "cell_type": "code",
      "execution_count": null,
      "metadata": {
        "collapsed": false
      },
      "outputs": [],
      "source": [
        "%matplotlib inline"
      ]
    },
    {
      "cell_type": "markdown",
      "metadata": {},
      "source": [
        "\nTransforming Power Spectra\n==========================\n\nApply transformations to power spectra.\n\nOne of the goals of parameterizing neural power spectra is to be able to understand\nif and how power spectra may be different and/or be changing across time or context.\n\nIn order to explore how power spectra can change, the simulation framework also\nprovides functions and utilities for transforming power spectra. These approaches\ncan be useful to specifically define changes and how spectra relate to each other,\nand track how outcome measures relate to changes in the power spectra.\n"
      ]
    },
    {
      "cell_type": "code",
      "execution_count": null,
      "metadata": {
        "collapsed": false
      },
      "outputs": [],
      "source": [
        "# Import the FOOOF object\nfrom fooof import FOOOF\n\n# Import simulation utilities to create example data\nfrom fooof.sim.gen import gen_power_spectrum\n\n# Import functions that can transform power spectra\nfrom fooof.sim.transform import (rotate_spectrum, translate_spectrum,\n                                 rotate_sim_spectrum, translate_sim_spectrum,\n                                 compute_rotation_offset)\n\n# Import plot function to visualize power spectra\nfrom fooof.plts.spectra import plot_spectra"
      ]
    },
    {
      "cell_type": "code",
      "execution_count": null,
      "metadata": {
        "collapsed": false
      },
      "outputs": [],
      "source": [
        "# Generate a simulated power spectrum\nfreqs, powers, params = gen_power_spectrum([3, 40], [1, 1], [10, 0.5, 1],\n                                           return_params=True)"
      ]
    },
    {
      "cell_type": "markdown",
      "metadata": {},
      "source": [
        "Rotating Power Spectra\n----------------------\n\nThe :func:`rotate_spectrum` function takes in a power spectrum, and rotates the\npower spectrum a specified amount, around a specified frequency point, changing\nthe aperiodic exponent of the spectrum.\n\n\n"
      ]
    },
    {
      "cell_type": "code",
      "execution_count": null,
      "metadata": {
        "collapsed": false
      },
      "outputs": [],
      "source": [
        "# Rotation settings\ndelta_exp = 0.25        # How much to change the exponent by\nf_rotation = 20         # The frequency at which to rotate the spectrum\n\n# Rotate the power spectrum\nr_powers = rotate_spectrum(freqs, powers, delta_exp, f_rotation)"
      ]
    },
    {
      "cell_type": "code",
      "execution_count": null,
      "metadata": {
        "collapsed": false
      },
      "outputs": [],
      "source": [
        "# Plot the two power spectra, with the rotation applied\nplot_spectra(freqs, [powers, r_powers], log_freqs=True, log_powers=True)"
      ]
    },
    {
      "cell_type": "markdown",
      "metadata": {},
      "source": [
        "Next, we can use FOOOF to check if our change in exponent went as expected.\n\n\n"
      ]
    },
    {
      "cell_type": "code",
      "execution_count": null,
      "metadata": {
        "collapsed": false
      },
      "outputs": [],
      "source": [
        "# Initialize FOOOF models\nfm1, fm2 = FOOOF(verbose=False), FOOOF(verbose=False)\n\n# Fit FOOOF models to the original, and rotated, spectrum\nfm1.fit(freqs, powers)\nfm2.fit(freqs, r_powers)\n\n# Check the measured exponent values\nprint(\"Original exponent value:\\t {:1.2f}\".format(\\\n    fm1.get_params('aperiodic_params', 'exponent')))\nprint(\"Rotated exponent value:\\t{:1.2f}\".format(\\\n    fm2.get_params('aperiodic_params', 'exponent')))"
      ]
    },
    {
      "cell_type": "markdown",
      "metadata": {},
      "source": [
        "Rotation Related Offset Changes\n~~~~~~~~~~~~~~~~~~~~~~~~~~~~~~~\n\nNote that when you rotate a power spectrum, the offset also necessarily changes.\n\nIf you wish to compute the change in offset that occurs due to a change in exponent,\nyou can use the :func:`compute_rotation_offset` function.\n\n\n"
      ]
    },
    {
      "cell_type": "code",
      "execution_count": null,
      "metadata": {
        "collapsed": false
      },
      "outputs": [],
      "source": [
        "# Calculate the change in offset from an exponent change\noff_change = compute_rotation_offset(delta_exp, f_rotation)\n\n# Check the change in offset\nprint(\"The induced change in offset is: \\t {:1.2f}\".format(off_change))"
      ]
    },
    {
      "cell_type": "markdown",
      "metadata": {},
      "source": [
        "Translating Power Spectra\n-------------------------\n\nAnother transformation you can apply to power spectra is a translation, which changes\nthe offset, effectively moving the whole spectrum up or down.\n\nNote that changing the offset does not change the exponent.\n\n\n"
      ]
    },
    {
      "cell_type": "code",
      "execution_count": null,
      "metadata": {
        "collapsed": false
      },
      "outputs": [],
      "source": [
        "# Translation settings\ndelta_offset = 0.5        # How much to change the offset by\n\n# Translate the power spectrum\nt_powers = translate_spectrum(powers, delta_offset)"
      ]
    },
    {
      "cell_type": "code",
      "execution_count": null,
      "metadata": {
        "collapsed": false
      },
      "outputs": [],
      "source": [
        "# Plot the two power spectra, with the translation applied\nplot_spectra(freqs, [powers, t_powers], log_freqs=True, log_powers=True)"
      ]
    },
    {
      "cell_type": "markdown",
      "metadata": {},
      "source": [
        "Transforming while Tracking Simulation Parameters\n-------------------------------------------------\n\nAs we've seen, transforming power spectra changes their definitions, and sometimes\nmore than just the parameter we are manipulating directly.\n\nIf you are transforming simulated spectra, it can be useful to keep track of these changes.\n\nTo do so, there are also the function :func:`rotate_sim_spectrum` and\n:func:`translate_sim_spectrum`, which work the same as what we've seen so far, with\nthe addition that they take in a :obj:`SimParams` object, and update and return a\nnew :obj:`SimParams` object that tracks the updated simulation parameters.\n\n\n"
      ]
    },
    {
      "cell_type": "code",
      "execution_count": null,
      "metadata": {
        "collapsed": false
      },
      "outputs": [],
      "source": [
        "# Rotate a power spectrum, tracking and updating simulation parameters\nr_s_powers, r_params = rotate_sim_spectrum(freqs, powers, delta_exp, f_rotation, params)\n\n# Check the updated sim params from after the rotation\nprint(r_params)"
      ]
    },
    {
      "cell_type": "code",
      "execution_count": null,
      "metadata": {
        "collapsed": false
      },
      "outputs": [],
      "source": [
        "# Translate a power spectrum, tracking and updating simulation parameters\nt_s_powers, t_params = translate_sim_spectrum(powers, delta_offset, params)\n\n# Check the updated sim params from after the translation\nprint(t_params)"
      ]
    }
  ],
  "metadata": {
    "kernelspec": {
      "display_name": "Python 3",
      "language": "python",
      "name": "python3"
    },
    "language_info": {
      "codemirror_mode": {
        "name": "ipython",
        "version": 3
      },
      "file_extension": ".py",
      "mimetype": "text/x-python",
      "name": "python",
      "nbconvert_exporter": "python",
      "pygments_lexer": "ipython3",
      "version": "3.7.4"
    }
  },
  "nbformat": 4,
  "nbformat_minor": 0
}