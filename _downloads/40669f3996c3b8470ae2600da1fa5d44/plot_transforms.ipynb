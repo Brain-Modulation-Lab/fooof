{
  "cells": [
    {
      "cell_type": "code",
      "execution_count": null,
      "metadata": {
        "collapsed": false
      },
      "outputs": [],
      "source": [
        "%matplotlib inline"
      ]
    },
    {
      "cell_type": "markdown",
      "metadata": {},
      "source": [
        "\nTransforming Power Spectra\n==========================\n\nApply transformations to power spectra.\n\n"
      ]
    },
    {
      "cell_type": "code",
      "execution_count": null,
      "metadata": {
        "collapsed": false
      },
      "outputs": [],
      "source": [
        "# Imports\nfrom fooof.synth.gen import gen_power_spectrum\nfrom fooof.synth.transform import rotate_spectrum\n\nfrom fooof.plts.spectra import plot_spectra"
      ]
    },
    {
      "cell_type": "code",
      "execution_count": null,
      "metadata": {
        "collapsed": false
      },
      "outputs": [],
      "source": [
        "# Generate a synthetic power spectrum\nfs, ps = gen_power_spectrum([3, 40], [1, 1], [10, 0.5, 1])"
      ]
    },
    {
      "cell_type": "markdown",
      "metadata": {},
      "source": [
        "rotate_spectrum\n---------------\n\nThe :func:`rotate_spectrum` function takes in a power spectrum, and rotates the\npower spectrum a specified amount, around a specified frequency point, changing\nthe aperiodic exponent of the spectrum.\n\n\n"
      ]
    },
    {
      "cell_type": "code",
      "execution_count": null,
      "metadata": {
        "collapsed": false
      },
      "outputs": [],
      "source": [
        "# Rotate the power spectrum\nnps = rotate_spectrum(fs, ps, 0.25, 20)"
      ]
    },
    {
      "cell_type": "code",
      "execution_count": null,
      "metadata": {
        "collapsed": false
      },
      "outputs": [],
      "source": [
        "# Plot the two power spectra\nplot_spectra(fs, [ps, nps], log_freqs=True, log_powers=True)"
      ]
    }
  ],
  "metadata": {
    "kernelspec": {
      "display_name": "Python 3",
      "language": "python",
      "name": "python3"
    },
    "language_info": {
      "codemirror_mode": {
        "name": "ipython",
        "version": 3
      },
      "file_extension": ".py",
      "mimetype": "text/x-python",
      "name": "python",
      "nbconvert_exporter": "python",
      "pygments_lexer": "ipython3",
      "version": "3.7.1"
    }
  },
  "nbformat": 4,
  "nbformat_minor": 0
}