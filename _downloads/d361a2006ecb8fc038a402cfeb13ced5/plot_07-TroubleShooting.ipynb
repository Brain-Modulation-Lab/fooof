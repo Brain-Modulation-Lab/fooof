{
  "cells": [
    {
      "cell_type": "code",
      "execution_count": null,
      "metadata": {
        "collapsed": false
      },
      "outputs": [],
      "source": [
        "%matplotlib inline"
      ]
    },
    {
      "cell_type": "markdown",
      "metadata": {},
      "source": [
        "\n07: Tuning & Troubleshooting\n============================\n\nTips & tricks for choosing FOOOF parameters, tuning fits, and troubleshooting.\n\n"
      ]
    },
    {
      "cell_type": "code",
      "execution_count": null,
      "metadata": {
        "collapsed": false
      },
      "outputs": [],
      "source": [
        "import numpy as np\n\n# FOOOF imports\nfrom fooof import FOOOF, FOOOFGroup\n\n# Import some utilities, and tools for creating synthetic power-spectra\nfrom fooof.synth.params import param_sampler\nfrom fooof.synth.gen import gen_power_spectrum, gen_group_power_spectra\nfrom fooof.core.utils import group_three"
      ]
    },
    {
      "cell_type": "code",
      "execution_count": null,
      "metadata": {
        "collapsed": false
      },
      "outputs": [],
      "source": [
        "# Set random state, for consistency for generating synthetic data\nnp.random.seed(321)"
      ]
    },
    {
      "cell_type": "markdown",
      "metadata": {},
      "source": [
        "FOOOF Settings\n--------------\n\nWith default settings, FOOOF is minimally constrained. It defaults as such\nsince there are not universal settings that work across all different dataset\nmodalities. Appropriate settings also vary with power spectrum quality (noise,\nor effectively, the smoothness of the power spectrum), and frequency ranges.\n\nFor any given dataset, FOOOF will likely need some tuning of parameters\nfor optimal performance.\n\nTo do so, we suggest using a combination of the following considerations:\n\n- A priori constraints, given your data, such as the number\n  of peaks you expect to extract\n- Qualitative analysis, guided by examing the the plotted\n  model fit results, as compared to input data\n- Quantitative analysis, considering the model fit and error\n  (however, see note at the bottom regarding interpreting model fit error)\n\nTuning FOOOF is an imperfect art, and should be done carefully, as assumptions\nbuilt into the settings chosen will impact the model results.\n\nWe also recommend that FOOOF settings should not be changed between power\nspectra (across channels, trials, or subjects), if they are to be meaningfully\ncompared. We therefore recommend first testing out FOOOF across some\nrepresentative spectra, in order to select FOOOF settings, which you then keep\nconstant for the full analysis.\n\n\n"
      ]
    },
    {
      "cell_type": "markdown",
      "metadata": {},
      "source": [
        "Tuning FOOOF\n------------\n\nWith the defaults, FOOOF is relatively unconstrained, and therefore, most\ncommonly FOOOF will overfit, being overzealous at fitting small noisy bumps\nas peaks. If you move to a new dataset, you may also find you need to relax\nsome settings, for better fits.\n\nYou also need to make sure you pick an appropriate aperiodic fitting procedure,\nand that your data meets the assumptions of the approach you choose.\n\nThe remainder of this notebook goes through some examples of setting FOOOF\nparameters to be most appropriate for various datasetes.\n\n\n"
      ]
    },
    {
      "cell_type": "markdown",
      "metadata": {},
      "source": [
        "Interpreting Model Fit Quality Measures\n---------------------------------------\n\nFOOOF calculates and returns a couple metrics to assist with assessing the\nquality of the model fits. It calculates both the model fit error, as the\nroot mean-squared error (RMSE) between the full model fit (`fooofed\\_spectrum\\_`)\nand the original power spectrum, as well as the R-squared correspondance\nbetween the original spectrum and the FOOOFed result.\n\nThese scores can be used to assess how the model is performing. However\ninterpreting these measures requires a bit of nuance. FOOOF is NOT optimized\nto minimize fit error / maximize r-squared at all costs. To do so typically\nresults in fitting a large number of gaussian processes, in a way that overfits noise.\n\nFOOOF is therefore tuned to try and measure the aperiodic signal and peaks\nin a parsimonious manner, such as to not overfit noise, and following a\nfuzzy definition of only fitting peaks where there are actually significant\npeaks over and above the aperiodic signal, and the noise.\n\nOne way we tested this is by assessing the model as compared to how expert\nhuman raters labeled putative oscillatory 'peaks'. As such, overall the\nmodel is not directly designed to optimize model fit error / r-squared.\n\nGiven this, while high error / low r-squared may indicate a poor model fit,\nvery low error / high r-squared may also indicate a power spectrum that is\noverfit, in particular in which the peak parameters from the model may\nreflect overfitting by modelling too many peaks, and thus not offer a\ngood description of the underlying data.\n\nWe therefore recommend that, for a given dataset, initial explorations\nshould involve checking both cases in which model fit error is particularly\nlarge, as well as when it is particularly low. These explorations can be\nused to set parameters that are suitable for running across a group.\nThere are not universal parameters that optimize this, and so FOOOF\nleaves it up to the user to set parameters appropriately to not\nunder- or over-fit for a given modality / dataset / application.\n\n\n"
      ]
    },
    {
      "cell_type": "markdown",
      "metadata": {},
      "source": [
        "Reducing Overfitting\n--------------------\n\nIf FOOOF appears to be overfitting (for example, fitting too many Gaussians to small bumps), try:\n\n- Setting a lower-bound bandwidth-limit, to exclude fitting very narrow peaks, that may be noise\n- Setting a maximum number of peaks that the algorithm may fit: `max_n_peaks`\n\n  - If set, the algorithm will fit (up to) the `max_n_peaks` highest power peaks.\n- Setting a minimum absolute amplitude for peaks: `min_peak_amplitude`\n\n\n"
      ]
    },
    {
      "cell_type": "code",
      "execution_count": null,
      "metadata": {
        "collapsed": false
      },
      "outputs": [],
      "source": [
        "# Generate a noisy synthetic power spectrum\n\n# Set the frequency range to generate the power spectrum\nf_range = [1, 50]\n# Set aperiodic background signal parameters, as [offset, exponent]\nap_params = [20, 2]\n# Gaussian peak parameters\ngauss_params = [10, 1.0, 2.5, 20, 0.8, 2, 32, 0.6, 1]\n# Set the level of noise to generate the power spectrum with\nnlv = 0.1\n\n# Create a synthetic power spectrum\nfreqs, spectrum = gen_power_spectrum(f_range, ap_params, gauss_params, nlv)"
      ]
    },
    {
      "cell_type": "code",
      "execution_count": null,
      "metadata": {
        "collapsed": false
      },
      "outputs": [],
      "source": [
        "# Fit an (unconstrained) FOOOF model, liable to overfit\nfm = FOOOF()\nfm.report(freqs, spectrum)"
      ]
    },
    {
      "cell_type": "markdown",
      "metadata": {},
      "source": [
        "Notice that in the above fit, we are very likely to think that FOOOF has\nbeen overzealous in fitting peaks, and is therefore overfitting.\n\nThis is also suggested by the model r-squared, which is suspiciously\nhigh, given the amount of noise we expect.\n\nTo reduce this kind of overfitting, we can update the FOOOF parameters.\n\n\n"
      ]
    },
    {
      "cell_type": "code",
      "execution_count": null,
      "metadata": {
        "collapsed": false
      },
      "outputs": [],
      "source": [
        "# Update settings to fit a more constrained FOOOF model, to reduce overfitting\nfm = FOOOF(peak_width_limits=[1, 8], max_n_peaks=6, min_peak_amplitude=0.4)\nfm.report(freqs, spectrum)"
      ]
    },
    {
      "cell_type": "markdown",
      "metadata": {},
      "source": [
        "The synthetic definition is defined in terms of Gaussian parameters (these are\nslightly different from the peak parameters - see the note in tutorial 02).\n\nWe can compare how FOOOF, with our updated settings, compares to the\nground truth of the synthetic spectrum.\n\n\n"
      ]
    },
    {
      "cell_type": "code",
      "execution_count": null,
      "metadata": {
        "collapsed": false
      },
      "outputs": [],
      "source": [
        "# Compare ground truth synthetic parameters to model fit results\nprint('Ground Truth \\t\\t FOOOF Reconstructions')\nfor sy, fi in zip(np.array(group_three(gauss_params)), fm._gaussian_params):\n    print('{:5.2f} {:5.2f} {:5.2f} \\t {:5.2f} {:5.2f} {:5.2f}'.format(*sy, *fi))"
      ]
    },
    {
      "cell_type": "markdown",
      "metadata": {},
      "source": [
        "Power Spectra with No Peaks\n---------------------------\n\nA known case in which FOOOF can overfit is in power spectra in which no peaks\nare present. In this case, the standard deviation can be very low, and so the\nrelative amplitude check (`min_peak_threshold`) is very liberal at keeping gaussian fits.\n\nIf you expect, or know, you have power spectra without peaks in your data,\nwe therefore recommend making sure you set some value for `min_peak_amplitude`,\nas otherwise FOOOF is unlikely to appropriately fit power spectra as having\nno peaks. Setting this value requires checking the scale of your power spectra,\nallowing you to define an absolute threshold for extracting peaks.\n\n\n"
      ]
    },
    {
      "cell_type": "markdown",
      "metadata": {},
      "source": [
        "Reducing Underfitting\n---------------------\n\nIf you are finding that FOOOF is underfitting:\n\n- First check and perhaps loosen any restrictions from `max_n_peaks` and `min_peak_amplitude`\n- Try updating `peak_threshold` to a lower value\n- Bad fits may come from issues with aperiodic signal fitting\n\n\n"
      ]
    },
    {
      "cell_type": "markdown",
      "metadata": {},
      "source": [
        "Create a cleaner synthetic power spectrum\n-----------------------------------------\n\n"
      ]
    },
    {
      "cell_type": "code",
      "execution_count": null,
      "metadata": {
        "collapsed": false
      },
      "outputs": [],
      "source": [
        "# Set the frequency range to generate the power spectrum\nf_range = [1, 50]\n# Aperiodic parameters, as [offset, exponent]\nap_params = [20, 2]\n# Gaussian peak parameters\ngauss_params = [10, 1.0, 1.0, 20, 0.3, 1.5, 32, 0.25, 1]\n# Set the level of noise to generate the power spectrum with\nnlv = 0.025\n\n# Create a synthetic power spectrum\nfreqs, spectrum = gen_power_spectrum([1, 50], ap_params, gauss_params, nlv=nlv)\n\n# Update settings to make sure they are sensitive to smaller peaks in smoother power spectra\nfm = FOOOF(peak_width_limits=[1, 8], max_n_peaks=6, min_peak_amplitude=0.2)\nfm.report(freqs, spectrum)"
      ]
    },
    {
      "cell_type": "code",
      "execution_count": null,
      "metadata": {
        "collapsed": false
      },
      "outputs": [],
      "source": [
        "# Check reconstructed parameters from synthetic definition\nprint('Ground Truth \\t\\t FOOOF Reconstructions')\nfor sy, fi in zip(np.array(group_three(gauss_params)), fm._gaussian_params):\n    print('{:5.2f} {:5.2f} {:5.2f} \\t {:5.2f} {:5.2f} {:5.2f}'.format(*sy, *fi))"
      ]
    },
    {
      "cell_type": "markdown",
      "metadata": {},
      "source": [
        "Checking Fits Across a Group\n----------------------------\n\n"
      ]
    },
    {
      "cell_type": "code",
      "execution_count": null,
      "metadata": {
        "collapsed": false
      },
      "outputs": [],
      "source": [
        "# Set the parameters options for aperiodic signal and Gaussian peaks\nap_opts = param_sampler([[20, 2], [50, 2.5], [35, 1.5]])\ngauss_opts = param_sampler([[], [10, 0.5, 2], [10, 0.5, 2, 20, 0.3, 4]])\n\n# Generate a group of power spectra\nfreqs, power_spectra, syn_params = gen_group_power_spectra(10, [3, 50], ap_opts, gauss_opts)"
      ]
    },
    {
      "cell_type": "code",
      "execution_count": null,
      "metadata": {
        "collapsed": false
      },
      "outputs": [],
      "source": [
        "# Initialize a FOOOFGroup\nfg = FOOOFGroup(peak_width_limits=[1, 6])"
      ]
    },
    {
      "cell_type": "code",
      "execution_count": null,
      "metadata": {
        "collapsed": false
      },
      "outputs": [],
      "source": [
        "# Fit FOOOF and report on the group\nfg.report(freqs, power_spectra)"
      ]
    },
    {
      "cell_type": "code",
      "execution_count": null,
      "metadata": {
        "collapsed": false
      },
      "outputs": [],
      "source": [
        "# Find the index of the worst FOOOF fit from the group\nworst_fit_ind = np.argmax(fg.get_all_data('error'))\n\n# Extract this FOOOF fit from the group, into a FOOOF object\nfm = fg.get_fooof(worst_fit_ind, regenerate=True)"
      ]
    },
    {
      "cell_type": "markdown",
      "metadata": {},
      "source": [
        "Check out the model fit of the extracted FOOOF model\n\n"
      ]
    },
    {
      "cell_type": "code",
      "execution_count": null,
      "metadata": {
        "collapsed": false
      },
      "outputs": [],
      "source": [
        "fm.print_results()\nfm.plot()"
      ]
    },
    {
      "cell_type": "markdown",
      "metadata": {},
      "source": [
        "You can also loop through all the results in a test group, extracting all fits\nthat meet some criterion that makes them worth checking.\n\nThis might be checking for fits above some error threshold, as below, but note\nthat you may also want to do a similar procedure to examine fits with the lowest\nerror, to check if FOOOF may be overfitting, or perhaps fits with a particularly\nlarge number of gaussians.\n\n"
      ]
    },
    {
      "cell_type": "code",
      "execution_count": null,
      "metadata": {
        "collapsed": false
      },
      "outputs": [],
      "source": [
        "# Extract all fits that are above some error threshold, for further examination.\n#  You could also do a similar analysis for particularly low errors\nto_check = []\nfor ind, res in enumerate(fg):\n    if res.error > 0.010:\n        to_check.append(fg.get_fooof(ind, regenerate=True))\n\n# A more condensed version of the procedure above can also be used, like this:\n#to_check = [fg.get_fooof(ind, True) for ind, res in enumerate(fg) if res.error > 0.010]"
      ]
    },
    {
      "cell_type": "code",
      "execution_count": null,
      "metadata": {
        "collapsed": false
      },
      "outputs": [],
      "source": [
        "# Loop through the problem fits, checking the plots, and saving out reports, to check later.\nfor ind, fm in enumerate(to_check):\n    fm.plot()\n    fm.save_report('Report_ToCheck_#' + str(ind))"
      ]
    },
    {
      "cell_type": "markdown",
      "metadata": {},
      "source": [
        "Reporting Bad Fits\n------------------\n\nIf, after working through these suggestions, you are still getting bad fits,\nand/or are just not sure what is going on, please get in touch! We will hopefully\nbe able to make further recommendations, and this also serves as a way for us to\ninvestigate when and why FOOOF fails, so that we can continue to make it better.\n\nYou can report issues on Github `here <https://github.com/fooof-tools/fooof>`_\nor get in touch with us by e-mail at voytekresearch@gmail.com.\n\nFOOOF also includes a helper method to print out instructions for reporting\nbad fits / bugs back to us, as demonstrated below.\n\n\n"
      ]
    },
    {
      "cell_type": "code",
      "execution_count": null,
      "metadata": {
        "collapsed": false
      },
      "outputs": [],
      "source": [
        "# Print out instructions to report bad fits\n#  Note you can also call this from FOOOFGroup, and from instances (ex: fm.print_report_issue())\nFOOOF.print_report_issue()"
      ]
    }
  ],
  "metadata": {
    "kernelspec": {
      "display_name": "Python 3",
      "language": "python",
      "name": "python3"
    },
    "language_info": {
      "codemirror_mode": {
        "name": "ipython",
        "version": 3
      },
      "file_extension": ".py",
      "mimetype": "text/x-python",
      "name": "python",
      "nbconvert_exporter": "python",
      "pygments_lexer": "ipython3",
      "version": "3.7.1"
    }
  },
  "nbformat": 4,
  "nbformat_minor": 0
}